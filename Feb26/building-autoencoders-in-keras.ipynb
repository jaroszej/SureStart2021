{
 "cells": [
  {
   "cell_type": "code",
   "execution_count": 1,
   "metadata": {
    "_cell_guid": "b1076dfc-b9ad-4769-8c92-a6c4dae69d19",
    "_uuid": "8f2839f25d086af736a60e9eeb907d3b93b6e0e5",
    "execution": {
     "iopub.execute_input": "2021-03-03T22:00:06.699533Z",
     "iopub.status.busy": "2021-03-03T22:00:06.698789Z",
     "iopub.status.idle": "2021-03-03T22:00:14.525801Z",
     "shell.execute_reply": "2021-03-03T22:00:14.525156Z"
    },
    "papermill": {
     "duration": 7.848901,
     "end_time": "2021-03-03T22:00:14.526011",
     "exception": false,
     "start_time": "2021-03-03T22:00:06.677110",
     "status": "completed"
    },
    "tags": []
   },
   "outputs": [],
   "source": [
    "import keras\n",
    "from keras import layers\n",
    "\n",
    "# This is the size of our encoded representations\n",
    "encoding_dim = 32  # 32 floats -> compression of factor 24.5, assuming the input is 784 floats\n",
    "\n",
    "# This is our input image\n",
    "input_img = keras.Input(shape=(784,))\n",
    "# \"encoded\" is the encoded representation of the input\n",
    "encoded = layers.Dense(encoding_dim, activation='relu')(input_img)\n",
    "# \"decoded\" is the lossy reconstruction of the input\n",
    "decoded = layers.Dense(784, activation='sigmoid')(encoded)\n",
    "\n",
    "# This model maps an input to its reconstruction\n",
    "autoencoder = keras.Model(input_img, decoded)"
   ]
  },
  {
   "cell_type": "code",
   "execution_count": 2,
   "metadata": {
    "execution": {
     "iopub.execute_input": "2021-03-03T22:00:14.561830Z",
     "iopub.status.busy": "2021-03-03T22:00:14.560527Z",
     "iopub.status.idle": "2021-03-03T22:00:14.564766Z",
     "shell.execute_reply": "2021-03-03T22:00:14.564290Z"
    },
    "papermill": {
     "duration": 0.0243,
     "end_time": "2021-03-03T22:00:14.564903",
     "exception": false,
     "start_time": "2021-03-03T22:00:14.540603",
     "status": "completed"
    },
    "tags": []
   },
   "outputs": [],
   "source": [
    "# This model maps an input to its encoded representation\n",
    "encoder = keras.Model(input_img, encoded)"
   ]
  },
  {
   "cell_type": "code",
   "execution_count": 3,
   "metadata": {
    "execution": {
     "iopub.execute_input": "2021-03-03T22:00:14.601002Z",
     "iopub.status.busy": "2021-03-03T22:00:14.599848Z",
     "iopub.status.idle": "2021-03-03T22:00:14.609477Z",
     "shell.execute_reply": "2021-03-03T22:00:14.608972Z"
    },
    "papermill": {
     "duration": 0.030405,
     "end_time": "2021-03-03T22:00:14.609612",
     "exception": false,
     "start_time": "2021-03-03T22:00:14.579207",
     "status": "completed"
    },
    "tags": []
   },
   "outputs": [],
   "source": [
    "# This is our encoded (32-dimensional) input\n",
    "encoded_input = keras.Input(shape=(encoding_dim,))\n",
    "# Retrieve the last layer of the autoencoder model\n",
    "decoder_layer = autoencoder.layers[-1]\n",
    "# Create the decoder model\n",
    "decoder = keras.Model(encoded_input, decoder_layer(encoded_input))"
   ]
  },
  {
   "cell_type": "code",
   "execution_count": 4,
   "metadata": {
    "execution": {
     "iopub.execute_input": "2021-03-03T22:00:14.649041Z",
     "iopub.status.busy": "2021-03-03T22:00:14.648227Z",
     "iopub.status.idle": "2021-03-03T22:00:14.655491Z",
     "shell.execute_reply": "2021-03-03T22:00:14.654984Z"
    },
    "papermill": {
     "duration": 0.03175,
     "end_time": "2021-03-03T22:00:14.655615",
     "exception": false,
     "start_time": "2021-03-03T22:00:14.623865",
     "status": "completed"
    },
    "tags": []
   },
   "outputs": [],
   "source": [
    "autoencoder.compile(optimizer='adam', loss='binary_crossentropy')"
   ]
  },
  {
   "cell_type": "code",
   "execution_count": 5,
   "metadata": {
    "execution": {
     "iopub.execute_input": "2021-03-03T22:00:14.689265Z",
     "iopub.status.busy": "2021-03-03T22:00:14.688438Z",
     "iopub.status.idle": "2021-03-03T22:00:15.270638Z",
     "shell.execute_reply": "2021-03-03T22:00:15.270029Z"
    },
    "papermill": {
     "duration": 0.600847,
     "end_time": "2021-03-03T22:00:15.270777",
     "exception": false,
     "start_time": "2021-03-03T22:00:14.669930",
     "status": "completed"
    },
    "tags": []
   },
   "outputs": [
    {
     "name": "stdout",
     "output_type": "stream",
     "text": [
      "Downloading data from https://storage.googleapis.com/tensorflow/tf-keras-datasets/mnist.npz\n",
      "11493376/11490434 [==============================] - 0s 0us/step\n"
     ]
    }
   ],
   "source": [
    "from keras.datasets import mnist\n",
    "import numpy as np\n",
    "(x_train, _), (x_test, _) = mnist.load_data()"
   ]
  },
  {
   "cell_type": "code",
   "execution_count": 6,
   "metadata": {
    "execution": {
     "iopub.execute_input": "2021-03-03T22:00:15.309404Z",
     "iopub.status.busy": "2021-03-03T22:00:15.308245Z",
     "iopub.status.idle": "2021-03-03T22:00:15.387716Z",
     "shell.execute_reply": "2021-03-03T22:00:15.388215Z"
    },
    "papermill": {
     "duration": 0.101199,
     "end_time": "2021-03-03T22:00:15.388397",
     "exception": false,
     "start_time": "2021-03-03T22:00:15.287198",
     "status": "completed"
    },
    "tags": []
   },
   "outputs": [
    {
     "name": "stdout",
     "output_type": "stream",
     "text": [
      "(60000, 784)\n",
      "(10000, 784)\n"
     ]
    }
   ],
   "source": [
    "x_train = x_train.astype('float32') / 255.\n",
    "x_test = x_test.astype('float32') / 255.\n",
    "x_train = x_train.reshape((len(x_train), np.prod(x_train.shape[1:])))\n",
    "x_test = x_test.reshape((len(x_test), np.prod(x_test.shape[1:])))\n",
    "print(x_train.shape)\n",
    "print(x_test.shape)"
   ]
  },
  {
   "cell_type": "code",
   "execution_count": 7,
   "metadata": {
    "execution": {
     "iopub.execute_input": "2021-03-03T22:00:15.426556Z",
     "iopub.status.busy": "2021-03-03T22:00:15.425882Z",
     "iopub.status.idle": "2021-03-03T22:00:55.468195Z",
     "shell.execute_reply": "2021-03-03T22:00:55.469245Z"
    },
    "papermill": {
     "duration": 40.064632,
     "end_time": "2021-03-03T22:00:55.469466",
     "exception": false,
     "start_time": "2021-03-03T22:00:15.404834",
     "status": "completed"
    },
    "tags": []
   },
   "outputs": [
    {
     "name": "stdout",
     "output_type": "stream",
     "text": [
      "Epoch 1/50\n",
      "235/235 [==============================] - 3s 7ms/step - loss: 0.3789 - val_loss: 0.1878\n",
      "Epoch 2/50\n",
      "235/235 [==============================] - 1s 3ms/step - loss: 0.1785 - val_loss: 0.1532\n",
      "Epoch 3/50\n",
      "235/235 [==============================] - 1s 3ms/step - loss: 0.1489 - val_loss: 0.1337\n",
      "Epoch 4/50\n",
      "235/235 [==============================] - 1s 3ms/step - loss: 0.1313 - val_loss: 0.1210\n",
      "Epoch 5/50\n",
      "235/235 [==============================] - 1s 3ms/step - loss: 0.1198 - val_loss: 0.1126\n",
      "Epoch 6/50\n",
      "235/235 [==============================] - 1s 3ms/step - loss: 0.1119 - val_loss: 0.1066\n",
      "Epoch 7/50\n",
      "235/235 [==============================] - 1s 4ms/step - loss: 0.1066 - val_loss: 0.1023\n",
      "Epoch 8/50\n",
      "235/235 [==============================] - 1s 3ms/step - loss: 0.1023 - val_loss: 0.0990\n",
      "Epoch 9/50\n",
      "235/235 [==============================] - 1s 3ms/step - loss: 0.0997 - val_loss: 0.0967\n",
      "Epoch 10/50\n",
      "235/235 [==============================] - 1s 3ms/step - loss: 0.0977 - val_loss: 0.0953\n",
      "Epoch 11/50\n",
      "235/235 [==============================] - 1s 3ms/step - loss: 0.0963 - val_loss: 0.0943\n",
      "Epoch 12/50\n",
      "235/235 [==============================] - 1s 3ms/step - loss: 0.0953 - val_loss: 0.0936\n",
      "Epoch 13/50\n",
      "235/235 [==============================] - 1s 3ms/step - loss: 0.0950 - val_loss: 0.0933\n",
      "Epoch 14/50\n",
      "235/235 [==============================] - 1s 3ms/step - loss: 0.0946 - val_loss: 0.0929\n",
      "Epoch 15/50\n",
      "235/235 [==============================] - 1s 3ms/step - loss: 0.0943 - val_loss: 0.0927\n",
      "Epoch 16/50\n",
      "235/235 [==============================] - 1s 3ms/step - loss: 0.0940 - val_loss: 0.0926\n",
      "Epoch 17/50\n",
      "235/235 [==============================] - 1s 3ms/step - loss: 0.0937 - val_loss: 0.0925\n",
      "Epoch 18/50\n",
      "235/235 [==============================] - 1s 3ms/step - loss: 0.0937 - val_loss: 0.0924\n",
      "Epoch 19/50\n",
      "235/235 [==============================] - 1s 3ms/step - loss: 0.0935 - val_loss: 0.0923\n",
      "Epoch 20/50\n",
      "235/235 [==============================] - 1s 3ms/step - loss: 0.0936 - val_loss: 0.0922\n",
      "Epoch 21/50\n",
      "235/235 [==============================] - 1s 4ms/step - loss: 0.0933 - val_loss: 0.0922\n",
      "Epoch 22/50\n",
      "235/235 [==============================] - 1s 3ms/step - loss: 0.0933 - val_loss: 0.0921\n",
      "Epoch 23/50\n",
      "235/235 [==============================] - 1s 3ms/step - loss: 0.0931 - val_loss: 0.0920\n",
      "Epoch 24/50\n",
      "235/235 [==============================] - 1s 3ms/step - loss: 0.0931 - val_loss: 0.0920\n",
      "Epoch 25/50\n",
      "235/235 [==============================] - 1s 3ms/step - loss: 0.0931 - val_loss: 0.0920\n",
      "Epoch 26/50\n",
      "235/235 [==============================] - 1s 3ms/step - loss: 0.0931 - val_loss: 0.0920\n",
      "Epoch 27/50\n",
      "235/235 [==============================] - 1s 3ms/step - loss: 0.0931 - val_loss: 0.0919\n",
      "Epoch 28/50\n",
      "235/235 [==============================] - 1s 3ms/step - loss: 0.0930 - val_loss: 0.0919\n",
      "Epoch 29/50\n",
      "235/235 [==============================] - 1s 3ms/step - loss: 0.0931 - val_loss: 0.0918\n",
      "Epoch 30/50\n",
      "235/235 [==============================] - 1s 3ms/step - loss: 0.0929 - val_loss: 0.0918\n",
      "Epoch 31/50\n",
      "235/235 [==============================] - 1s 3ms/step - loss: 0.0930 - val_loss: 0.0920\n",
      "Epoch 32/50\n",
      "235/235 [==============================] - 1s 3ms/step - loss: 0.0930 - val_loss: 0.0919\n",
      "Epoch 33/50\n",
      "235/235 [==============================] - 1s 3ms/step - loss: 0.0930 - val_loss: 0.0918\n",
      "Epoch 34/50\n",
      "235/235 [==============================] - 1s 3ms/step - loss: 0.0928 - val_loss: 0.0918\n",
      "Epoch 35/50\n",
      "235/235 [==============================] - 1s 3ms/step - loss: 0.0929 - val_loss: 0.0917\n",
      "Epoch 36/50\n",
      "235/235 [==============================] - 1s 4ms/step - loss: 0.0929 - val_loss: 0.0917\n",
      "Epoch 37/50\n",
      "235/235 [==============================] - 1s 4ms/step - loss: 0.0929 - val_loss: 0.0917\n",
      "Epoch 38/50\n",
      "235/235 [==============================] - 1s 3ms/step - loss: 0.0928 - val_loss: 0.0918\n",
      "Epoch 39/50\n",
      "235/235 [==============================] - 1s 3ms/step - loss: 0.0928 - val_loss: 0.0917\n",
      "Epoch 40/50\n",
      "235/235 [==============================] - 1s 3ms/step - loss: 0.0928 - val_loss: 0.0917\n",
      "Epoch 41/50\n",
      "235/235 [==============================] - 1s 3ms/step - loss: 0.0929 - val_loss: 0.0916\n",
      "Epoch 42/50\n",
      "235/235 [==============================] - 1s 4ms/step - loss: 0.0928 - val_loss: 0.0916\n",
      "Epoch 43/50\n",
      "235/235 [==============================] - 1s 5ms/step - loss: 0.0928 - val_loss: 0.0916\n",
      "Epoch 44/50\n",
      "235/235 [==============================] - 1s 3ms/step - loss: 0.0926 - val_loss: 0.0918\n",
      "Epoch 45/50\n",
      "235/235 [==============================] - 1s 3ms/step - loss: 0.0926 - val_loss: 0.0917\n",
      "Epoch 46/50\n",
      "235/235 [==============================] - 1s 3ms/step - loss: 0.0929 - val_loss: 0.0916\n",
      "Epoch 47/50\n",
      "235/235 [==============================] - 1s 3ms/step - loss: 0.0929 - val_loss: 0.0916\n",
      "Epoch 48/50\n",
      "235/235 [==============================] - 1s 3ms/step - loss: 0.0926 - val_loss: 0.0916\n",
      "Epoch 49/50\n",
      "235/235 [==============================] - 1s 3ms/step - loss: 0.0926 - val_loss: 0.0916\n",
      "Epoch 50/50\n",
      "235/235 [==============================] - 1s 4ms/step - loss: 0.0928 - val_loss: 0.0916\n"
     ]
    },
    {
     "data": {
      "text/plain": [
       "<tensorflow.python.keras.callbacks.History at 0x7ff0c7af9910>"
      ]
     },
     "execution_count": 7,
     "metadata": {},
     "output_type": "execute_result"
    }
   ],
   "source": [
    "autoencoder.fit(x_train, x_train,\n",
    "                epochs=50,\n",
    "                batch_size=256,\n",
    "                shuffle=True,\n",
    "                validation_data=(x_test, x_test))"
   ]
  },
  {
   "cell_type": "code",
   "execution_count": 8,
   "metadata": {
    "execution": {
     "iopub.execute_input": "2021-03-03T22:00:55.994825Z",
     "iopub.status.busy": "2021-03-03T22:00:55.993918Z",
     "iopub.status.idle": "2021-03-03T22:00:56.512425Z",
     "shell.execute_reply": "2021-03-03T22:00:56.511874Z"
    },
    "papermill": {
     "duration": 0.778991,
     "end_time": "2021-03-03T22:00:56.512569",
     "exception": false,
     "start_time": "2021-03-03T22:00:55.733578",
     "status": "completed"
    },
    "tags": []
   },
   "outputs": [],
   "source": [
    "# Encode and decode some digits\n",
    "# Note that we take them from the *test* set\n",
    "encoded_imgs = encoder.predict(x_test)\n",
    "decoded_imgs = decoder.predict(encoded_imgs)"
   ]
  },
  {
   "cell_type": "code",
   "execution_count": 9,
   "metadata": {
    "execution": {
     "iopub.execute_input": "2021-03-03T22:00:56.985234Z",
     "iopub.status.busy": "2021-03-03T22:00:56.984598Z",
     "iopub.status.idle": "2021-03-03T22:00:57.961977Z",
     "shell.execute_reply": "2021-03-03T22:00:57.961105Z"
    },
    "papermill": {
     "duration": 1.218028,
     "end_time": "2021-03-03T22:00:57.962120",
     "exception": false,
     "start_time": "2021-03-03T22:00:56.744092",
     "status": "completed"
    },
    "tags": []
   },
   "outputs": [
    {
     "data": {
      "image/png": "[encoded data removed]",
      "text/plain": [
       "<Figure size 1440x288 with 20 Axes>"
      ]
     },
     "metadata": {
      "needs_background": "light"
     },
     "output_type": "display_data"
    }
   ],
   "source": [
    "# Use Matplotlib (don't ask)\n",
    "import matplotlib.pyplot as plt\n",
    "\n",
    "n = 10  # How many digits we will display\n",
    "plt.figure(figsize=(20, 4))\n",
    "for i in range(n):\n",
    "    # Display original\n",
    "    ax = plt.subplot(2, n, i + 1)\n",
    "    plt.imshow(x_test[i].reshape(28, 28))\n",
    "    plt.gray()\n",
    "    ax.get_xaxis().set_visible(False)\n",
    "    ax.get_yaxis().set_visible(False)\n",
    "\n",
    "    # Display reconstruction\n",
    "    ax = plt.subplot(2, n, i + 1 + n)\n",
    "    plt.imshow(decoded_imgs[i].reshape(28, 28))\n",
    "    plt.gray()\n",
    "    ax.get_xaxis().set_visible(False)\n",
    "    ax.get_yaxis().set_visible(False)\n",
    "plt.show()"
   ]
  },
  {
   "cell_type": "code",
   "execution_count": 10,
   "metadata": {
    "execution": {
     "iopub.execute_input": "2021-03-03T22:00:58.440148Z",
     "iopub.status.busy": "2021-03-03T22:00:58.439142Z",
     "iopub.status.idle": "2021-03-03T22:00:58.461090Z",
     "shell.execute_reply": "2021-03-03T22:00:58.460583Z"
    },
    "papermill": {
     "duration": 0.26398,
     "end_time": "2021-03-03T22:00:58.461255",
     "exception": false,
     "start_time": "2021-03-03T22:00:58.197275",
     "status": "completed"
    },
    "tags": []
   },
   "outputs": [],
   "source": [
    "from keras import regularizers\n",
    "\n",
    "encoding_dim = 32\n",
    "\n",
    "input_img = keras.Input(shape=(784,))\n",
    "# Add a Dense layer with a L1 activity regularizer\n",
    "encoded = layers.Dense(encoding_dim, activation='relu',\n",
    "                activity_regularizer=regularizers.l1(10e-5))(input_img)\n",
    "decoded = layers.Dense(784, activation='sigmoid')(encoded)\n",
    "\n",
    "autoencoder = keras.Model(input_img, decoded)"
   ]
  },
  {
   "cell_type": "code",
   "execution_count": 11,
   "metadata": {
    "execution": {
     "iopub.execute_input": "2021-03-03T22:00:58.968431Z",
     "iopub.status.busy": "2021-03-03T22:00:58.967118Z",
     "iopub.status.idle": "2021-03-03T22:00:59.007122Z",
     "shell.execute_reply": "2021-03-03T22:00:59.006529Z"
    },
    "papermill": {
     "duration": 0.305265,
     "end_time": "2021-03-03T22:00:59.007347",
     "exception": false,
     "start_time": "2021-03-03T22:00:58.702082",
     "status": "completed"
    },
    "tags": []
   },
   "outputs": [],
   "source": [
    "input_img = keras.Input(shape=(784,))\n",
    "encoded = layers.Dense(128, activation='relu')(input_img)\n",
    "encoded = layers.Dense(64, activation='relu')(encoded)\n",
    "encoded = layers.Dense(32, activation='relu')(encoded)\n",
    "\n",
    "decoded = layers.Dense(64, activation='relu')(encoded)\n",
    "decoded = layers.Dense(128, activation='relu')(decoded)\n",
    "decoded = layers.Dense(784, activation='sigmoid')(decoded)"
   ]
  },
  {
   "cell_type": "code",
   "execution_count": 12,
   "metadata": {
    "execution": {
     "iopub.execute_input": "2021-03-03T22:00:59.494434Z",
     "iopub.status.busy": "2021-03-03T22:00:59.493555Z",
     "iopub.status.idle": "2021-03-03T22:02:26.633642Z",
     "shell.execute_reply": "2021-03-03T22:02:26.633040Z"
    },
    "papermill": {
     "duration": 87.390034,
     "end_time": "2021-03-03T22:02:26.633799",
     "exception": false,
     "start_time": "2021-03-03T22:00:59.243765",
     "status": "completed"
    },
    "tags": []
   },
   "outputs": [
    {
     "name": "stdout",
     "output_type": "stream",
     "text": [
      "Epoch 1/100\n",
      "235/235 [==============================] - 1s 4ms/step - loss: 0.3418 - val_loss: 0.1693\n",
      "Epoch 2/100\n",
      "235/235 [==============================] - 1s 3ms/step - loss: 0.1582 - val_loss: 0.1383\n",
      "Epoch 3/100\n",
      "235/235 [==============================] - 1s 3ms/step - loss: 0.1361 - val_loss: 0.1267\n",
      "Epoch 4/100\n",
      "235/235 [==============================] - 1s 3ms/step - loss: 0.1256 - val_loss: 0.1182\n",
      "Epoch 5/100\n",
      "235/235 [==============================] - 1s 4ms/step - loss: 0.1183 - val_loss: 0.1131\n",
      "Epoch 6/100\n",
      "235/235 [==============================] - 1s 4ms/step - loss: 0.1130 - val_loss: 0.1090\n",
      "Epoch 7/100\n",
      "235/235 [==============================] - 1s 4ms/step - loss: 0.1097 - val_loss: 0.1063\n",
      "Epoch 8/100\n",
      "235/235 [==============================] - 1s 4ms/step - loss: 0.1071 - val_loss: 0.1042\n",
      "Epoch 9/100\n",
      "235/235 [==============================] - 1s 4ms/step - loss: 0.1048 - val_loss: 0.1025\n",
      "Epoch 10/100\n",
      "235/235 [==============================] - 1s 3ms/step - loss: 0.1030 - val_loss: 0.1008\n",
      "Epoch 11/100\n",
      "235/235 [==============================] - 1s 3ms/step - loss: 0.1013 - val_loss: 0.0994\n",
      "Epoch 12/100\n",
      "235/235 [==============================] - 1s 3ms/step - loss: 0.1005 - val_loss: 0.0984\n",
      "Epoch 13/100\n",
      "235/235 [==============================] - 1s 3ms/step - loss: 0.0992 - val_loss: 0.0976\n",
      "Epoch 14/100\n",
      "235/235 [==============================] - 1s 3ms/step - loss: 0.0985 - val_loss: 0.0965\n",
      "Epoch 15/100\n",
      "235/235 [==============================] - 1s 4ms/step - loss: 0.0976 - val_loss: 0.0958\n",
      "Epoch 16/100\n",
      "235/235 [==============================] - 1s 3ms/step - loss: 0.0964 - val_loss: 0.0947\n",
      "Epoch 17/100\n",
      "235/235 [==============================] - 1s 3ms/step - loss: 0.0958 - val_loss: 0.0939\n",
      "Epoch 18/100\n",
      "235/235 [==============================] - 1s 3ms/step - loss: 0.0949 - val_loss: 0.0934\n",
      "Epoch 19/100\n",
      "235/235 [==============================] - 1s 3ms/step - loss: 0.0942 - val_loss: 0.0928\n",
      "Epoch 20/100\n",
      "235/235 [==============================] - 1s 3ms/step - loss: 0.0936 - val_loss: 0.0923\n",
      "Epoch 21/100\n",
      "235/235 [==============================] - 1s 4ms/step - loss: 0.0930 - val_loss: 0.0918\n",
      "Epoch 22/100\n",
      "235/235 [==============================] - 1s 3ms/step - loss: 0.0926 - val_loss: 0.0917\n",
      "Epoch 23/100\n",
      "235/235 [==============================] - 1s 3ms/step - loss: 0.0924 - val_loss: 0.0912\n",
      "Epoch 24/100\n",
      "235/235 [==============================] - 1s 3ms/step - loss: 0.0920 - val_loss: 0.0907\n",
      "Epoch 25/100\n",
      "235/235 [==============================] - 1s 3ms/step - loss: 0.0912 - val_loss: 0.0906\n",
      "Epoch 26/100\n",
      "235/235 [==============================] - 1s 5ms/step - loss: 0.0909 - val_loss: 0.0904\n",
      "Epoch 27/100\n",
      "235/235 [==============================] - 1s 4ms/step - loss: 0.0908 - val_loss: 0.0898\n",
      "Epoch 28/100\n",
      "235/235 [==============================] - 1s 4ms/step - loss: 0.0902 - val_loss: 0.0892\n",
      "Epoch 29/100\n",
      "235/235 [==============================] - 1s 4ms/step - loss: 0.0898 - val_loss: 0.0890\n",
      "Epoch 30/100\n",
      "235/235 [==============================] - 1s 3ms/step - loss: 0.0895 - val_loss: 0.0887\n",
      "Epoch 31/100\n",
      "235/235 [==============================] - 1s 3ms/step - loss: 0.0890 - val_loss: 0.0885\n",
      "Epoch 32/100\n",
      "235/235 [==============================] - 1s 4ms/step - loss: 0.0890 - val_loss: 0.0882\n",
      "Epoch 33/100\n",
      "235/235 [==============================] - 1s 4ms/step - loss: 0.0887 - val_loss: 0.0878\n",
      "Epoch 34/100\n",
      "235/235 [==============================] - 1s 4ms/step - loss: 0.0885 - val_loss: 0.0880\n",
      "Epoch 35/100\n",
      "235/235 [==============================] - 1s 4ms/step - loss: 0.0883 - val_loss: 0.0876\n",
      "Epoch 36/100\n",
      "235/235 [==============================] - 1s 4ms/step - loss: 0.0878 - val_loss: 0.0875\n",
      "Epoch 37/100\n",
      "235/235 [==============================] - 1s 4ms/step - loss: 0.0880 - val_loss: 0.0872\n",
      "Epoch 38/100\n",
      "235/235 [==============================] - 1s 4ms/step - loss: 0.0875 - val_loss: 0.0871\n",
      "Epoch 39/100\n",
      "235/235 [==============================] - 1s 4ms/step - loss: 0.0877 - val_loss: 0.0867\n",
      "Epoch 40/100\n",
      "235/235 [==============================] - 1s 3ms/step - loss: 0.0872 - val_loss: 0.0867\n",
      "Epoch 41/100\n",
      "235/235 [==============================] - 1s 3ms/step - loss: 0.0871 - val_loss: 0.0867\n",
      "Epoch 42/100\n",
      "235/235 [==============================] - 1s 4ms/step - loss: 0.0870 - val_loss: 0.0863\n",
      "Epoch 43/100\n",
      "235/235 [==============================] - 1s 3ms/step - loss: 0.0867 - val_loss: 0.0864\n",
      "Epoch 44/100\n",
      "235/235 [==============================] - 1s 3ms/step - loss: 0.0866 - val_loss: 0.0864\n",
      "Epoch 45/100\n",
      "235/235 [==============================] - 1s 4ms/step - loss: 0.0868 - val_loss: 0.0860\n",
      "Epoch 46/100\n",
      "235/235 [==============================] - 1s 4ms/step - loss: 0.0863 - val_loss: 0.0859\n",
      "Epoch 47/100\n",
      "235/235 [==============================] - 1s 4ms/step - loss: 0.0865 - val_loss: 0.0860\n",
      "Epoch 48/100\n",
      "235/235 [==============================] - 1s 3ms/step - loss: 0.0862 - val_loss: 0.0860\n",
      "Epoch 49/100\n",
      "235/235 [==============================] - 1s 4ms/step - loss: 0.0862 - val_loss: 0.0855\n",
      "Epoch 50/100\n",
      "235/235 [==============================] - 1s 3ms/step - loss: 0.0859 - val_loss: 0.0856\n",
      "Epoch 51/100\n",
      "235/235 [==============================] - 1s 3ms/step - loss: 0.0858 - val_loss: 0.0854\n",
      "Epoch 52/100\n",
      "235/235 [==============================] - 1s 3ms/step - loss: 0.0859 - val_loss: 0.0856\n",
      "Epoch 53/100\n",
      "235/235 [==============================] - 1s 3ms/step - loss: 0.0858 - val_loss: 0.0856\n",
      "Epoch 54/100\n",
      "235/235 [==============================] - 1s 3ms/step - loss: 0.0857 - val_loss: 0.0852\n",
      "Epoch 55/100\n",
      "235/235 [==============================] - 1s 3ms/step - loss: 0.0857 - val_loss: 0.0854\n",
      "Epoch 56/100\n",
      "235/235 [==============================] - 1s 3ms/step - loss: 0.0856 - val_loss: 0.0853\n",
      "Epoch 57/100\n",
      "235/235 [==============================] - 1s 4ms/step - loss: 0.0856 - val_loss: 0.0852\n",
      "Epoch 58/100\n",
      "235/235 [==============================] - 1s 4ms/step - loss: 0.0853 - val_loss: 0.0849\n",
      "Epoch 59/100\n",
      "235/235 [==============================] - 1s 4ms/step - loss: 0.0853 - val_loss: 0.0850\n",
      "Epoch 60/100\n",
      "235/235 [==============================] - 1s 4ms/step - loss: 0.0853 - val_loss: 0.0848\n",
      "Epoch 61/100\n",
      "235/235 [==============================] - 1s 3ms/step - loss: 0.0853 - val_loss: 0.0849\n",
      "Epoch 62/100\n",
      "235/235 [==============================] - 1s 3ms/step - loss: 0.0853 - val_loss: 0.0849\n",
      "Epoch 63/100\n",
      "235/235 [==============================] - 1s 5ms/step - loss: 0.0852 - val_loss: 0.0848\n",
      "Epoch 64/100\n",
      "235/235 [==============================] - 1s 4ms/step - loss: 0.0851 - val_loss: 0.0853\n",
      "Epoch 65/100\n",
      "235/235 [==============================] - 1s 3ms/step - loss: 0.0852 - val_loss: 0.0845\n",
      "Epoch 66/100\n",
      "235/235 [==============================] - 1s 4ms/step - loss: 0.0848 - val_loss: 0.0846\n",
      "Epoch 67/100\n",
      "235/235 [==============================] - 1s 3ms/step - loss: 0.0848 - val_loss: 0.0845\n",
      "Epoch 68/100\n",
      "235/235 [==============================] - 1s 4ms/step - loss: 0.0849 - val_loss: 0.0846\n",
      "Epoch 69/100\n",
      "235/235 [==============================] - 1s 4ms/step - loss: 0.0848 - val_loss: 0.0850\n",
      "Epoch 70/100\n",
      "235/235 [==============================] - 1s 3ms/step - loss: 0.0850 - val_loss: 0.0845\n",
      "Epoch 71/100\n",
      "235/235 [==============================] - 1s 4ms/step - loss: 0.0849 - val_loss: 0.0846\n",
      "Epoch 72/100\n",
      "235/235 [==============================] - 1s 6ms/step - loss: 0.0847 - val_loss: 0.0843\n",
      "Epoch 73/100\n",
      "235/235 [==============================] - 1s 4ms/step - loss: 0.0847 - val_loss: 0.0843\n",
      "Epoch 74/100\n",
      "235/235 [==============================] - 1s 4ms/step - loss: 0.0846 - val_loss: 0.0843\n",
      "Epoch 75/100\n",
      "235/235 [==============================] - 1s 4ms/step - loss: 0.0845 - val_loss: 0.0842\n",
      "Epoch 76/100\n",
      "235/235 [==============================] - 1s 4ms/step - loss: 0.0844 - val_loss: 0.0841\n",
      "Epoch 77/100\n",
      "235/235 [==============================] - 1s 3ms/step - loss: 0.0844 - val_loss: 0.0844\n",
      "Epoch 78/100\n",
      "235/235 [==============================] - 1s 3ms/step - loss: 0.0845 - val_loss: 0.0841\n",
      "Epoch 79/100\n",
      "235/235 [==============================] - 1s 4ms/step - loss: 0.0844 - val_loss: 0.0841\n",
      "Epoch 80/100\n",
      "235/235 [==============================] - 1s 4ms/step - loss: 0.0844 - val_loss: 0.0839\n",
      "Epoch 81/100\n",
      "235/235 [==============================] - 1s 4ms/step - loss: 0.0844 - val_loss: 0.0840\n",
      "Epoch 82/100\n",
      "235/235 [==============================] - 1s 4ms/step - loss: 0.0844 - val_loss: 0.0842\n",
      "Epoch 83/100\n",
      "235/235 [==============================] - 1s 3ms/step - loss: 0.0843 - val_loss: 0.0839\n",
      "Epoch 84/100\n",
      "235/235 [==============================] - 1s 5ms/step - loss: 0.0842 - val_loss: 0.0838\n",
      "Epoch 85/100\n",
      "235/235 [==============================] - 1s 4ms/step - loss: 0.0841 - val_loss: 0.0838\n",
      "Epoch 86/100\n",
      "235/235 [==============================] - 1s 4ms/step - loss: 0.0843 - val_loss: 0.0838\n",
      "Epoch 87/100\n",
      "235/235 [==============================] - 1s 3ms/step - loss: 0.0841 - val_loss: 0.0838\n",
      "Epoch 88/100\n",
      "235/235 [==============================] - 1s 3ms/step - loss: 0.0840 - val_loss: 0.0840\n",
      "Epoch 89/100\n",
      "235/235 [==============================] - 1s 4ms/step - loss: 0.0841 - val_loss: 0.0837\n",
      "Epoch 90/100\n",
      "235/235 [==============================] - 1s 4ms/step - loss: 0.0841 - val_loss: 0.0837\n",
      "Epoch 91/100\n",
      "235/235 [==============================] - 1s 4ms/step - loss: 0.0840 - val_loss: 0.0837\n",
      "Epoch 92/100\n",
      "235/235 [==============================] - 1s 4ms/step - loss: 0.0841 - val_loss: 0.0839\n",
      "Epoch 93/100\n",
      "235/235 [==============================] - 1s 4ms/step - loss: 0.0840 - val_loss: 0.0840\n",
      "Epoch 94/100\n",
      "235/235 [==============================] - 1s 4ms/step - loss: 0.0838 - val_loss: 0.0836\n",
      "Epoch 95/100\n",
      "235/235 [==============================] - 1s 3ms/step - loss: 0.0839 - val_loss: 0.0836\n",
      "Epoch 96/100\n",
      "235/235 [==============================] - 1s 4ms/step - loss: 0.0838 - val_loss: 0.0836\n",
      "Epoch 97/100\n",
      "235/235 [==============================] - 1s 5ms/step - loss: 0.0838 - val_loss: 0.0837\n",
      "Epoch 98/100\n",
      "235/235 [==============================] - 1s 4ms/step - loss: 0.0839 - val_loss: 0.0839\n",
      "Epoch 99/100\n",
      "235/235 [==============================] - 1s 5ms/step - loss: 0.0837 - val_loss: 0.0836\n",
      "Epoch 100/100\n",
      "235/235 [==============================] - 1s 3ms/step - loss: 0.0837 - val_loss: 0.0836\n"
     ]
    },
    {
     "data": {
      "text/plain": [
       "<tensorflow.python.keras.callbacks.History at 0x7ff03c086dd0>"
      ]
     },
     "execution_count": 12,
     "metadata": {},
     "output_type": "execute_result"
    }
   ],
   "source": [
    "autoencoder = keras.Model(input_img, decoded)\n",
    "autoencoder.compile(optimizer='adam', loss='binary_crossentropy')\n",
    "\n",
    "autoencoder.fit(x_train, x_train,\n",
    "                epochs=100,\n",
    "                batch_size=256,\n",
    "                shuffle=True,\n",
    "                validation_data=(x_test, x_test))"
   ]
  },
  {
   "cell_type": "code",
   "execution_count": 13,
   "metadata": {
    "execution": {
     "iopub.execute_input": "2021-03-03T22:02:28.106486Z",
     "iopub.status.busy": "2021-03-03T22:02:28.105582Z",
     "iopub.status.idle": "2021-03-03T22:02:28.195333Z",
     "shell.execute_reply": "2021-03-03T22:02:28.194690Z"
    },
    "papermill": {
     "duration": 0.828713,
     "end_time": "2021-03-03T22:02:28.195542",
     "exception": false,
     "start_time": "2021-03-03T22:02:27.366829",
     "status": "completed"
    },
    "tags": []
   },
   "outputs": [],
   "source": [
    "import keras\n",
    "from keras import layers\n",
    "\n",
    "input_img = keras.Input(shape=(28, 28, 1))\n",
    "\n",
    "x = layers.Conv2D(16, (3, 3), activation='relu', padding='same')(input_img)\n",
    "x = layers.MaxPooling2D((2, 2), padding='same')(x)\n",
    "x = layers.Conv2D(8, (3, 3), activation='relu', padding='same')(x)\n",
    "x = layers.MaxPooling2D((2, 2), padding='same')(x)\n",
    "x = layers.Conv2D(8, (3, 3), activation='relu', padding='same')(x)\n",
    "encoded = layers.MaxPooling2D((2, 2), padding='same')(x)\n",
    "\n",
    "# at this point the representation is (4, 4, 8) i.e. 128-dimensional\n",
    "\n",
    "x = layers.Conv2D(8, (3, 3), activation='relu', padding='same')(encoded)\n",
    "x = layers.UpSampling2D((2, 2))(x)\n",
    "x = layers.Conv2D(8, (3, 3), activation='relu', padding='same')(x)\n",
    "x = layers.UpSampling2D((2, 2))(x)\n",
    "x = layers.Conv2D(16, (3, 3), activation='relu')(x)\n",
    "x = layers.UpSampling2D((2, 2))(x)\n",
    "decoded = layers.Conv2D(1, (3, 3), activation='sigmoid', padding='same')(x)\n",
    "\n",
    "autoencoder = keras.Model(input_img, decoded)\n",
    "autoencoder.compile(optimizer='adam', loss='binary_crossentropy')"
   ]
  },
  {
   "cell_type": "code",
   "execution_count": 14,
   "metadata": {
    "execution": {
     "iopub.execute_input": "2021-03-03T22:02:29.730714Z",
     "iopub.status.busy": "2021-03-03T22:02:29.729895Z",
     "iopub.status.idle": "2021-03-03T22:02:30.083681Z",
     "shell.execute_reply": "2021-03-03T22:02:30.083150Z"
    },
    "papermill": {
     "duration": 1.130621,
     "end_time": "2021-03-03T22:02:30.083831",
     "exception": false,
     "start_time": "2021-03-03T22:02:28.953210",
     "status": "completed"
    },
    "tags": []
   },
   "outputs": [],
   "source": [
    "from keras.datasets import mnist\n",
    "import numpy as np\n",
    "\n",
    "(x_train, _), (x_test, _) = mnist.load_data()\n",
    "\n",
    "x_train = x_train.astype('float32') / 255.\n",
    "x_test = x_test.astype('float32') / 255.\n",
    "x_train = np.reshape(x_train, (len(x_train), 28, 28, 1))\n",
    "x_test = np.reshape(x_test, (len(x_test), 28, 28, 1))"
   ]
  },
  {
   "cell_type": "code",
   "execution_count": 15,
   "metadata": {
    "execution": {
     "iopub.execute_input": "2021-03-03T22:02:31.767985Z",
     "iopub.status.busy": "2021-03-03T22:02:31.766798Z",
     "iopub.status.idle": "2021-03-03T22:04:39.429274Z",
     "shell.execute_reply": "2021-03-03T22:04:39.412011Z"
    },
    "papermill": {
     "duration": 128.62291,
     "end_time": "2021-03-03T22:04:39.429460",
     "exception": false,
     "start_time": "2021-03-03T22:02:30.806550",
     "status": "completed"
    },
    "tags": []
   },
   "outputs": [
    {
     "name": "stdout",
     "output_type": "stream",
     "text": [
      "Epoch 1/50\n",
      "469/469 [==============================] - 6s 6ms/step - loss: 0.3274 - val_loss: 0.1457\n",
      "Epoch 2/50\n",
      "469/469 [==============================] - 2s 5ms/step - loss: 0.1403 - val_loss: 0.1246\n",
      "Epoch 3/50\n",
      "469/469 [==============================] - 2s 5ms/step - loss: 0.1234 - val_loss: 0.1174\n",
      "Epoch 4/50\n",
      "469/469 [==============================] - 2s 5ms/step - loss: 0.1165 - val_loss: 0.1127\n",
      "Epoch 5/50\n",
      "469/469 [==============================] - 3s 6ms/step - loss: 0.1123 - val_loss: 0.1093\n",
      "Epoch 6/50\n",
      "469/469 [==============================] - 2s 5ms/step - loss: 0.1100 - val_loss: 0.1075\n",
      "Epoch 7/50\n",
      "469/469 [==============================] - 2s 5ms/step - loss: 0.1081 - val_loss: 0.1056\n",
      "Epoch 8/50\n",
      "469/469 [==============================] - 2s 5ms/step - loss: 0.1061 - val_loss: 0.1038\n",
      "Epoch 9/50\n",
      "469/469 [==============================] - 3s 5ms/step - loss: 0.1046 - val_loss: 0.1028\n",
      "Epoch 10/50\n",
      "469/469 [==============================] - 3s 6ms/step - loss: 0.1036 - val_loss: 0.1015\n",
      "Epoch 11/50\n",
      "469/469 [==============================] - 2s 5ms/step - loss: 0.1025 - val_loss: 0.1010\n",
      "Epoch 12/50\n",
      "469/469 [==============================] - 3s 6ms/step - loss: 0.1017 - val_loss: 0.0999\n",
      "Epoch 13/50\n",
      "469/469 [==============================] - 2s 5ms/step - loss: 0.1005 - val_loss: 0.0989\n",
      "Epoch 14/50\n",
      "469/469 [==============================] - 3s 5ms/step - loss: 0.0998 - val_loss: 0.0982\n",
      "Epoch 15/50\n",
      "469/469 [==============================] - 2s 5ms/step - loss: 0.0994 - val_loss: 0.0979\n",
      "Epoch 16/50\n",
      "469/469 [==============================] - 2s 5ms/step - loss: 0.0984 - val_loss: 0.0974\n",
      "Epoch 17/50\n",
      "469/469 [==============================] - 2s 5ms/step - loss: 0.0980 - val_loss: 0.0964\n",
      "Epoch 18/50\n",
      "469/469 [==============================] - 3s 5ms/step - loss: 0.0976 - val_loss: 0.0961\n",
      "Epoch 19/50\n",
      "469/469 [==============================] - 2s 5ms/step - loss: 0.0970 - val_loss: 0.0956\n",
      "Epoch 20/50\n",
      "469/469 [==============================] - 3s 5ms/step - loss: 0.0965 - val_loss: 0.0951\n",
      "Epoch 21/50\n",
      "469/469 [==============================] - 2s 5ms/step - loss: 0.0965 - val_loss: 0.0948\n",
      "Epoch 22/50\n",
      "469/469 [==============================] - 2s 5ms/step - loss: 0.0960 - val_loss: 0.0946\n",
      "Epoch 23/50\n",
      "469/469 [==============================] - 3s 6ms/step - loss: 0.0956 - val_loss: 0.0941\n",
      "Epoch 24/50\n",
      "469/469 [==============================] - 3s 6ms/step - loss: 0.0954 - val_loss: 0.0943\n",
      "Epoch 25/50\n",
      "469/469 [==============================] - 3s 5ms/step - loss: 0.0950 - val_loss: 0.0938\n",
      "Epoch 26/50\n",
      "469/469 [==============================] - 2s 5ms/step - loss: 0.0946 - val_loss: 0.0934\n",
      "Epoch 27/50\n",
      "469/469 [==============================] - 3s 6ms/step - loss: 0.0944 - val_loss: 0.0934\n",
      "Epoch 28/50\n",
      "469/469 [==============================] - 2s 5ms/step - loss: 0.0943 - val_loss: 0.0930\n",
      "Epoch 29/50\n",
      "469/469 [==============================] - 2s 5ms/step - loss: 0.0939 - val_loss: 0.0926\n",
      "Epoch 30/50\n",
      "469/469 [==============================] - 2s 5ms/step - loss: 0.0935 - val_loss: 0.0925\n",
      "Epoch 31/50\n",
      "469/469 [==============================] - 3s 5ms/step - loss: 0.0935 - val_loss: 0.0925\n",
      "Epoch 32/50\n",
      "469/469 [==============================] - 2s 5ms/step - loss: 0.0932 - val_loss: 0.0920\n",
      "Epoch 33/50\n",
      "469/469 [==============================] - 2s 5ms/step - loss: 0.0930 - val_loss: 0.0918\n",
      "Epoch 34/50\n",
      "469/469 [==============================] - 2s 5ms/step - loss: 0.0930 - val_loss: 0.0917\n",
      "Epoch 35/50\n",
      "469/469 [==============================] - 3s 6ms/step - loss: 0.0926 - val_loss: 0.0919\n",
      "Epoch 36/50\n",
      "469/469 [==============================] - 3s 5ms/step - loss: 0.0925 - val_loss: 0.0916\n",
      "Epoch 37/50\n",
      "469/469 [==============================] - 3s 6ms/step - loss: 0.0925 - val_loss: 0.0914\n",
      "Epoch 38/50\n",
      "469/469 [==============================] - 3s 5ms/step - loss: 0.0921 - val_loss: 0.0911\n",
      "Epoch 39/50\n",
      "469/469 [==============================] - 2s 5ms/step - loss: 0.0921 - val_loss: 0.0912\n",
      "Epoch 40/50\n",
      "469/469 [==============================] - 3s 5ms/step - loss: 0.0919 - val_loss: 0.0908\n",
      "Epoch 41/50\n",
      "469/469 [==============================] - 2s 5ms/step - loss: 0.0917 - val_loss: 0.0911\n",
      "Epoch 42/50\n",
      "469/469 [==============================] - 2s 5ms/step - loss: 0.0916 - val_loss: 0.0908\n",
      "Epoch 43/50\n",
      "469/469 [==============================] - 2s 5ms/step - loss: 0.0915 - val_loss: 0.0909\n",
      "Epoch 44/50\n",
      "469/469 [==============================] - 2s 5ms/step - loss: 0.0915 - val_loss: 0.0900\n",
      "Epoch 45/50\n",
      "469/469 [==============================] - 3s 5ms/step - loss: 0.0911 - val_loss: 0.0903\n",
      "Epoch 46/50\n",
      "469/469 [==============================] - 2s 5ms/step - loss: 0.0911 - val_loss: 0.0903\n",
      "Epoch 47/50\n",
      "469/469 [==============================] - 2s 5ms/step - loss: 0.0910 - val_loss: 0.0900\n",
      "Epoch 48/50\n",
      "469/469 [==============================] - 2s 5ms/step - loss: 0.0908 - val_loss: 0.0897\n",
      "Epoch 49/50\n",
      "469/469 [==============================] - 3s 6ms/step - loss: 0.0908 - val_loss: 0.0902\n",
      "Epoch 50/50\n",
      "469/469 [==============================] - 3s 6ms/step - loss: 0.0908 - val_loss: 0.0898\n"
     ]
    },
    {
     "data": {
      "text/plain": [
       "<tensorflow.python.keras.callbacks.History at 0x7ff02de50850>"
      ]
     },
     "execution_count": 15,
     "metadata": {},
     "output_type": "execute_result"
    }
   ],
   "source": [
    "from keras.callbacks import TensorBoard\n",
    "\n",
    "autoencoder.fit(x_train, x_train,\n",
    "                epochs=50,\n",
    "                batch_size=128,\n",
    "                shuffle=True,\n",
    "                validation_data=(x_test, x_test),\n",
    "                callbacks=[TensorBoard(log_dir='/tmp/autoencoder')])"
   ]
  },
  {
   "cell_type": "code",
   "execution_count": 16,
   "metadata": {
    "execution": {
     "iopub.execute_input": "2021-03-03T22:04:42.337608Z",
     "iopub.status.busy": "2021-03-03T22:04:42.336547Z",
     "iopub.status.idle": "2021-03-03T22:04:43.750075Z",
     "shell.execute_reply": "2021-03-03T22:04:43.749436Z"
    },
    "papermill": {
     "duration": 2.851446,
     "end_time": "2021-03-03T22:04:43.750295",
     "exception": false,
     "start_time": "2021-03-03T22:04:40.898849",
     "status": "completed"
    },
    "tags": []
   },
   "outputs": [
    {
     "data": {
      "image/png": "[encoded data removed]",
      "text/plain": [
       "<Figure size 1440x288 with 20 Axes>"
      ]
     },
     "metadata": {
      "needs_background": "light"
     },
     "output_type": "display_data"
    }
   ],
   "source": [
    "decoded_imgs = autoencoder.predict(x_test)\n",
    "\n",
    "n = 10\n",
    "plt.figure(figsize=(20, 4))\n",
    "for i in range(1, n + 1):\n",
    "    # Display original\n",
    "    ax = plt.subplot(2, n, i)\n",
    "    plt.imshow(x_test[i].reshape(28, 28))\n",
    "    plt.gray()\n",
    "    ax.get_xaxis().set_visible(False)\n",
    "    ax.get_yaxis().set_visible(False)\n",
    "\n",
    "    # Display reconstruction\n",
    "    ax = plt.subplot(2, n, i + n)\n",
    "    plt.imshow(decoded_imgs[i].reshape(28, 28))\n",
    "    plt.gray()\n",
    "    ax.get_xaxis().set_visible(False)\n",
    "    ax.get_yaxis().set_visible(False)\n",
    "plt.show()"
   ]
  },
  {
   "cell_type": "code",
   "execution_count": 17,
   "metadata": {
    "execution": {
     "iopub.execute_input": "2021-03-03T22:04:46.875690Z",
     "iopub.status.busy": "2021-03-03T22:04:46.874782Z",
     "iopub.status.idle": "2021-03-03T22:04:48.016468Z",
     "shell.execute_reply": "2021-03-03T22:04:48.015842Z"
    },
    "papermill": {
     "duration": 2.809277,
     "end_time": "2021-03-03T22:04:48.016625",
     "exception": false,
     "start_time": "2021-03-03T22:04:45.207348",
     "status": "completed"
    },
    "tags": []
   },
   "outputs": [
    {
     "data": {
      "image/png": "[encoded data removed]",
      "text/plain": [
       "<Figure size 1440x576 with 10 Axes>"
      ]
     },
     "metadata": {
      "needs_background": "light"
     },
     "output_type": "display_data"
    }
   ],
   "source": [
    "encoder = keras.Model(input_img, encoded)\n",
    "encoded_imgs = encoder.predict(x_test)\n",
    "\n",
    "n = 10\n",
    "plt.figure(figsize=(20, 8))\n",
    "for i in range(1, n + 1):\n",
    "    ax = plt.subplot(1, n, i)\n",
    "    plt.imshow(encoded_imgs[i].reshape((4, 4 * 8)).T)\n",
    "    plt.gray()\n",
    "    ax.get_xaxis().set_visible(False)\n",
    "    ax.get_yaxis().set_visible(False)\n",
    "plt.show()\n"
   ]
  },
  {
   "cell_type": "code",
   "execution_count": 18,
   "metadata": {
    "execution": {
     "iopub.execute_input": "2021-03-03T22:04:50.998705Z",
     "iopub.status.busy": "2021-03-03T22:04:50.997855Z",
     "iopub.status.idle": "2021-03-03T22:04:53.759753Z",
     "shell.execute_reply": "2021-03-03T22:04:53.759196Z"
    },
    "papermill": {
     "duration": 4.254,
     "end_time": "2021-03-03T22:04:53.759888",
     "exception": false,
     "start_time": "2021-03-03T22:04:49.505888",
     "status": "completed"
    },
    "tags": []
   },
   "outputs": [],
   "source": [
    "from keras.datasets import mnist\n",
    "import numpy as np\n",
    "\n",
    "(x_train, _), (x_test, _) = mnist.load_data()\n",
    "\n",
    "x_train = x_train.astype('float32') / 255.\n",
    "x_test = x_test.astype('float32') / 255.\n",
    "x_train = np.reshape(x_train, (len(x_train), 28, 28, 1))\n",
    "x_test = np.reshape(x_test, (len(x_test), 28, 28, 1))\n",
    "\n",
    "noise_factor = 0.5\n",
    "x_train_noisy = x_train + noise_factor * np.random.normal(loc=0.0, scale=1.0, size=x_train.shape) \n",
    "x_test_noisy = x_test + noise_factor * np.random.normal(loc=0.0, scale=1.0, size=x_test.shape) \n",
    "\n",
    "x_train_noisy = np.clip(x_train_noisy, 0., 1.)\n",
    "x_test_noisy = np.clip(x_test_noisy, 0., 1.)"
   ]
  },
  {
   "cell_type": "code",
   "execution_count": 19,
   "metadata": {
    "execution": {
     "iopub.execute_input": "2021-03-03T22:04:56.696595Z",
     "iopub.status.busy": "2021-03-03T22:04:56.695675Z",
     "iopub.status.idle": "2021-03-03T22:04:57.224287Z",
     "shell.execute_reply": "2021-03-03T22:04:57.225174Z"
    },
    "papermill": {
     "duration": 1.978339,
     "end_time": "2021-03-03T22:04:57.225394",
     "exception": false,
     "start_time": "2021-03-03T22:04:55.247055",
     "status": "completed"
    },
    "tags": []
   },
   "outputs": [
    {
     "data": {
      "image/png": "[encoded data removed]",
      "text/plain": [
       "<Figure size 1440x144 with 10 Axes>"
      ]
     },
     "metadata": {
      "needs_background": "light"
     },
     "output_type": "display_data"
    }
   ],
   "source": [
    "n = 10\n",
    "plt.figure(figsize=(20, 2))\n",
    "for i in range(1, n + 1):\n",
    "    ax = plt.subplot(1, n, i)\n",
    "    plt.imshow(x_test_noisy[i].reshape(28, 28))\n",
    "    plt.gray()\n",
    "    ax.get_xaxis().set_visible(False)\n",
    "    ax.get_yaxis().set_visible(False)\n",
    "plt.show()"
   ]
  },
  {
   "cell_type": "code",
   "execution_count": 20,
   "metadata": {
    "execution": {
     "iopub.execute_input": "2021-03-03T22:05:00.255329Z",
     "iopub.status.busy": "2021-03-03T22:05:00.254602Z",
     "iopub.status.idle": "2021-03-03T22:05:00.317246Z",
     "shell.execute_reply": "2021-03-03T22:05:00.316662Z"
    },
    "papermill": {
     "duration": 1.538991,
     "end_time": "2021-03-03T22:05:00.317395",
     "exception": false,
     "start_time": "2021-03-03T22:04:58.778404",
     "status": "completed"
    },
    "tags": []
   },
   "outputs": [],
   "source": [
    "input_img = keras.Input(shape=(28, 28, 1))\n",
    "\n",
    "x = layers.Conv2D(32, (3, 3), activation='relu', padding='same')(input_img)\n",
    "x = layers.MaxPooling2D((2, 2), padding='same')(x)\n",
    "x = layers.Conv2D(32, (3, 3), activation='relu', padding='same')(x)\n",
    "encoded = layers.MaxPooling2D((2, 2), padding='same')(x)\n",
    "\n",
    "# At this point the representation is (7, 7, 32)\n",
    "\n",
    "x = layers.Conv2D(32, (3, 3), activation='relu', padding='same')(encoded)\n",
    "x = layers.UpSampling2D((2, 2))(x)\n",
    "x = layers.Conv2D(32, (3, 3), activation='relu', padding='same')(x)\n",
    "x = layers.UpSampling2D((2, 2))(x)\n",
    "decoded = layers.Conv2D(1, (3, 3), activation='sigmoid', padding='same')(x)\n",
    "\n",
    "autoencoder = keras.Model(input_img, decoded)\n",
    "autoencoder.compile(optimizer='adam', loss='binary_crossentropy')\n"
   ]
  },
  {
   "cell_type": "code",
   "execution_count": 21,
   "metadata": {
    "execution": {
     "iopub.execute_input": "2021-03-03T22:05:03.279883Z",
     "iopub.status.busy": "2021-03-03T22:05:03.278100Z",
     "iopub.status.idle": "2021-03-03T22:09:38.918534Z",
     "shell.execute_reply": "2021-03-03T22:09:38.919007Z"
    },
    "papermill": {
     "duration": 277.16131,
     "end_time": "2021-03-03T22:09:38.919224",
     "exception": false,
     "start_time": "2021-03-03T22:05:01.757914",
     "status": "completed"
    },
    "tags": []
   },
   "outputs": [
    {
     "name": "stdout",
     "output_type": "stream",
     "text": [
      "Epoch 1/100\n",
      "469/469 [==============================] - 4s 7ms/step - loss: 0.2453 - val_loss: 0.1159\n",
      "Epoch 2/100\n",
      "469/469 [==============================] - 3s 6ms/step - loss: 0.1145 - val_loss: 0.1080\n",
      "Epoch 3/100\n",
      "469/469 [==============================] - 3s 5ms/step - loss: 0.1084 - val_loss: 0.1052\n",
      "Epoch 4/100\n",
      "469/469 [==============================] - 3s 5ms/step - loss: 0.1053 - val_loss: 0.1031\n",
      "Epoch 5/100\n",
      "469/469 [==============================] - 3s 6ms/step - loss: 0.1033 - val_loss: 0.1012\n",
      "Epoch 6/100\n",
      "469/469 [==============================] - 3s 6ms/step - loss: 0.1019 - val_loss: 0.1003\n",
      "Epoch 7/100\n",
      "469/469 [==============================] - 3s 6ms/step - loss: 0.1006 - val_loss: 0.0992\n",
      "Epoch 8/100\n",
      "469/469 [==============================] - 3s 6ms/step - loss: 0.0999 - val_loss: 0.0983\n",
      "Epoch 9/100\n",
      "469/469 [==============================] - 3s 5ms/step - loss: 0.0990 - val_loss: 0.0980\n",
      "Epoch 10/100\n",
      "469/469 [==============================] - 3s 6ms/step - loss: 0.0986 - val_loss: 0.0975\n",
      "Epoch 11/100\n",
      "469/469 [==============================] - 3s 6ms/step - loss: 0.0981 - val_loss: 0.0971\n",
      "Epoch 12/100\n",
      "469/469 [==============================] - 3s 6ms/step - loss: 0.0978 - val_loss: 0.0969\n",
      "Epoch 13/100\n",
      "469/469 [==============================] - 3s 6ms/step - loss: 0.0974 - val_loss: 0.0964\n",
      "Epoch 14/100\n",
      "469/469 [==============================] - 3s 6ms/step - loss: 0.0972 - val_loss: 0.0968\n",
      "Epoch 15/100\n",
      "469/469 [==============================] - 3s 6ms/step - loss: 0.0968 - val_loss: 0.0960\n",
      "Epoch 16/100\n",
      "469/469 [==============================] - 3s 5ms/step - loss: 0.0966 - val_loss: 0.0959\n",
      "Epoch 17/100\n",
      "469/469 [==============================] - 3s 6ms/step - loss: 0.0964 - val_loss: 0.0958\n",
      "Epoch 18/100\n",
      "469/469 [==============================] - 3s 6ms/step - loss: 0.0963 - val_loss: 0.0957\n",
      "Epoch 19/100\n",
      "469/469 [==============================] - 3s 6ms/step - loss: 0.0961 - val_loss: 0.0956\n",
      "Epoch 20/100\n",
      "469/469 [==============================] - 3s 6ms/step - loss: 0.0960 - val_loss: 0.0954\n",
      "Epoch 21/100\n",
      "469/469 [==============================] - 3s 5ms/step - loss: 0.0957 - val_loss: 0.0954\n",
      "Epoch 22/100\n",
      "469/469 [==============================] - 3s 6ms/step - loss: 0.0957 - val_loss: 0.0952\n",
      "Epoch 23/100\n",
      "469/469 [==============================] - 3s 5ms/step - loss: 0.0957 - val_loss: 0.0950\n",
      "Epoch 24/100\n",
      "469/469 [==============================] - 4s 7ms/step - loss: 0.0954 - val_loss: 0.0949\n",
      "Epoch 25/100\n",
      "469/469 [==============================] - 3s 6ms/step - loss: 0.0954 - val_loss: 0.0949\n",
      "Epoch 26/100\n",
      "469/469 [==============================] - 3s 6ms/step - loss: 0.0953 - val_loss: 0.0949\n",
      "Epoch 27/100\n",
      "469/469 [==============================] - 3s 6ms/step - loss: 0.0951 - val_loss: 0.0947\n",
      "Epoch 28/100\n",
      "469/469 [==============================] - 3s 6ms/step - loss: 0.0951 - val_loss: 0.0947\n",
      "Epoch 29/100\n",
      "469/469 [==============================] - 3s 6ms/step - loss: 0.0952 - val_loss: 0.0946\n",
      "Epoch 30/100\n",
      "469/469 [==============================] - 3s 6ms/step - loss: 0.0948 - val_loss: 0.0945\n",
      "Epoch 31/100\n",
      "469/469 [==============================] - 3s 5ms/step - loss: 0.0949 - val_loss: 0.0945\n",
      "Epoch 32/100\n",
      "469/469 [==============================] - 3s 6ms/step - loss: 0.0948 - val_loss: 0.0944\n",
      "Epoch 33/100\n",
      "469/469 [==============================] - 3s 5ms/step - loss: 0.0948 - val_loss: 0.0945\n",
      "Epoch 34/100\n",
      "469/469 [==============================] - 3s 6ms/step - loss: 0.0949 - val_loss: 0.0943\n",
      "Epoch 35/100\n",
      "469/469 [==============================] - 3s 6ms/step - loss: 0.0948 - val_loss: 0.0943\n",
      "Epoch 36/100\n",
      "469/469 [==============================] - 4s 8ms/step - loss: 0.0946 - val_loss: 0.0943\n",
      "Epoch 37/100\n",
      "469/469 [==============================] - 3s 6ms/step - loss: 0.0946 - val_loss: 0.0942\n",
      "Epoch 38/100\n",
      "469/469 [==============================] - 3s 6ms/step - loss: 0.0944 - val_loss: 0.0942\n",
      "Epoch 39/100\n",
      "469/469 [==============================] - 3s 6ms/step - loss: 0.0943 - val_loss: 0.0941\n",
      "Epoch 40/100\n",
      "469/469 [==============================] - 3s 6ms/step - loss: 0.0945 - val_loss: 0.0945\n",
      "Epoch 41/100\n",
      "469/469 [==============================] - 3s 6ms/step - loss: 0.0943 - val_loss: 0.0942\n",
      "Epoch 42/100\n",
      "469/469 [==============================] - 3s 6ms/step - loss: 0.0943 - val_loss: 0.0942\n",
      "Epoch 43/100\n",
      "469/469 [==============================] - 3s 6ms/step - loss: 0.0942 - val_loss: 0.0941\n",
      "Epoch 44/100\n",
      "469/469 [==============================] - 3s 6ms/step - loss: 0.0943 - val_loss: 0.0940\n",
      "Epoch 45/100\n",
      "469/469 [==============================] - 3s 6ms/step - loss: 0.0943 - val_loss: 0.0940\n",
      "Epoch 46/100\n",
      "469/469 [==============================] - 3s 6ms/step - loss: 0.0943 - val_loss: 0.0940\n",
      "Epoch 47/100\n",
      "469/469 [==============================] - 3s 6ms/step - loss: 0.0944 - val_loss: 0.0939\n",
      "Epoch 48/100\n",
      "469/469 [==============================] - 3s 7ms/step - loss: 0.0940 - val_loss: 0.0941\n",
      "Epoch 49/100\n",
      "469/469 [==============================] - 3s 6ms/step - loss: 0.0943 - val_loss: 0.0939\n",
      "Epoch 50/100\n",
      "469/469 [==============================] - 3s 6ms/step - loss: 0.0941 - val_loss: 0.0937\n",
      "Epoch 51/100\n",
      "469/469 [==============================] - 3s 5ms/step - loss: 0.0940 - val_loss: 0.0938\n",
      "Epoch 52/100\n",
      "469/469 [==============================] - 3s 5ms/step - loss: 0.0942 - val_loss: 0.0939\n",
      "Epoch 53/100\n",
      "469/469 [==============================] - 3s 5ms/step - loss: 0.0940 - val_loss: 0.0939\n",
      "Epoch 54/100\n",
      "469/469 [==============================] - 3s 6ms/step - loss: 0.0940 - val_loss: 0.0937\n",
      "Epoch 55/100\n",
      "469/469 [==============================] - 3s 5ms/step - loss: 0.0939 - val_loss: 0.0941\n",
      "Epoch 56/100\n",
      "469/469 [==============================] - 3s 6ms/step - loss: 0.0941 - val_loss: 0.0939\n",
      "Epoch 57/100\n",
      "469/469 [==============================] - 3s 6ms/step - loss: 0.0941 - val_loss: 0.0937\n",
      "Epoch 58/100\n",
      "469/469 [==============================] - 3s 6ms/step - loss: 0.0939 - val_loss: 0.0937\n",
      "Epoch 59/100\n",
      "469/469 [==============================] - 3s 6ms/step - loss: 0.0941 - val_loss: 0.0938\n",
      "Epoch 60/100\n",
      "469/469 [==============================] - 3s 6ms/step - loss: 0.0940 - val_loss: 0.0939\n",
      "Epoch 61/100\n",
      "469/469 [==============================] - 3s 7ms/step - loss: 0.0940 - val_loss: 0.0937\n",
      "Epoch 62/100\n",
      "469/469 [==============================] - 3s 6ms/step - loss: 0.0939 - val_loss: 0.0936\n",
      "Epoch 63/100\n",
      "469/469 [==============================] - 3s 6ms/step - loss: 0.0938 - val_loss: 0.0937\n",
      "Epoch 64/100\n",
      "469/469 [==============================] - 3s 6ms/step - loss: 0.0940 - val_loss: 0.0937\n",
      "Epoch 65/100\n",
      "469/469 [==============================] - 3s 6ms/step - loss: 0.0937 - val_loss: 0.0936\n",
      "Epoch 66/100\n",
      "469/469 [==============================] - 3s 6ms/step - loss: 0.0939 - val_loss: 0.0937\n",
      "Epoch 67/100\n",
      "469/469 [==============================] - 3s 6ms/step - loss: 0.0939 - val_loss: 0.0937\n",
      "Epoch 68/100\n",
      "469/469 [==============================] - 3s 6ms/step - loss: 0.0937 - val_loss: 0.0939\n",
      "Epoch 69/100\n",
      "469/469 [==============================] - 3s 6ms/step - loss: 0.0938 - val_loss: 0.0937\n",
      "Epoch 70/100\n",
      "469/469 [==============================] - 3s 6ms/step - loss: 0.0937 - val_loss: 0.0937\n",
      "Epoch 71/100\n",
      "469/469 [==============================] - 3s 6ms/step - loss: 0.0937 - val_loss: 0.0936\n",
      "Epoch 72/100\n",
      "469/469 [==============================] - 3s 6ms/step - loss: 0.0939 - val_loss: 0.0936\n",
      "Epoch 73/100\n",
      "469/469 [==============================] - 3s 6ms/step - loss: 0.0937 - val_loss: 0.0936\n",
      "Epoch 74/100\n",
      "469/469 [==============================] - 3s 7ms/step - loss: 0.0939 - val_loss: 0.0935\n",
      "Epoch 75/100\n",
      "469/469 [==============================] - 3s 6ms/step - loss: 0.0936 - val_loss: 0.0936\n",
      "Epoch 76/100\n",
      "469/469 [==============================] - 3s 5ms/step - loss: 0.0937 - val_loss: 0.0936\n",
      "Epoch 77/100\n",
      "469/469 [==============================] - 3s 6ms/step - loss: 0.0936 - val_loss: 0.0935\n",
      "Epoch 78/100\n",
      "469/469 [==============================] - 3s 6ms/step - loss: 0.0938 - val_loss: 0.0936\n",
      "Epoch 79/100\n",
      "469/469 [==============================] - 3s 6ms/step - loss: 0.0936 - val_loss: 0.0935\n",
      "Epoch 80/100\n",
      "469/469 [==============================] - 3s 6ms/step - loss: 0.0936 - val_loss: 0.0938\n",
      "Epoch 81/100\n",
      "469/469 [==============================] - 3s 5ms/step - loss: 0.0937 - val_loss: 0.0936\n",
      "Epoch 82/100\n",
      "469/469 [==============================] - 3s 6ms/step - loss: 0.0936 - val_loss: 0.0935\n",
      "Epoch 83/100\n",
      "469/469 [==============================] - 3s 6ms/step - loss: 0.0937 - val_loss: 0.0934\n",
      "Epoch 84/100\n",
      "469/469 [==============================] - 3s 6ms/step - loss: 0.0936 - val_loss: 0.0934\n",
      "Epoch 85/100\n",
      "469/469 [==============================] - 3s 6ms/step - loss: 0.0937 - val_loss: 0.0936\n",
      "Epoch 86/100\n",
      "469/469 [==============================] - 3s 7ms/step - loss: 0.0936 - val_loss: 0.0935\n",
      "Epoch 87/100\n",
      "469/469 [==============================] - 3s 7ms/step - loss: 0.0935 - val_loss: 0.0940\n",
      "Epoch 88/100\n",
      "469/469 [==============================] - 3s 5ms/step - loss: 0.0936 - val_loss: 0.0936\n",
      "Epoch 89/100\n",
      "469/469 [==============================] - 3s 5ms/step - loss: 0.0938 - val_loss: 0.0934\n",
      "Epoch 90/100\n",
      "469/469 [==============================] - 3s 6ms/step - loss: 0.0937 - val_loss: 0.0937\n",
      "Epoch 91/100\n",
      "469/469 [==============================] - 3s 5ms/step - loss: 0.0938 - val_loss: 0.0935\n",
      "Epoch 92/100\n",
      "469/469 [==============================] - 3s 5ms/step - loss: 0.0935 - val_loss: 0.0934\n",
      "Epoch 93/100\n",
      "469/469 [==============================] - 3s 6ms/step - loss: 0.0936 - val_loss: 0.0939\n",
      "Epoch 94/100\n",
      "469/469 [==============================] - 3s 7ms/step - loss: 0.0937 - val_loss: 0.0934\n",
      "Epoch 95/100\n",
      "469/469 [==============================] - 3s 5ms/step - loss: 0.0935 - val_loss: 0.0936\n",
      "Epoch 96/100\n",
      "469/469 [==============================] - 3s 5ms/step - loss: 0.0937 - val_loss: 0.0936\n",
      "Epoch 97/100\n",
      "469/469 [==============================] - 3s 6ms/step - loss: 0.0937 - val_loss: 0.0934\n",
      "Epoch 98/100\n",
      "469/469 [==============================] - 3s 6ms/step - loss: 0.0935 - val_loss: 0.0934\n",
      "Epoch 99/100\n",
      "469/469 [==============================] - 3s 6ms/step - loss: 0.0936 - val_loss: 0.0935\n",
      "Epoch 100/100\n",
      "469/469 [==============================] - 3s 6ms/step - loss: 0.0935 - val_loss: 0.0934\n"
     ]
    },
    {
     "data": {
      "text/plain": [
       "<tensorflow.python.keras.callbacks.History at 0x7ff02dd04050>"
      ]
     },
     "execution_count": 21,
     "metadata": {},
     "output_type": "execute_result"
    }
   ],
   "source": [
    "autoencoder.fit(x_train_noisy, x_train,\n",
    "                epochs=100,\n",
    "                batch_size=128,\n",
    "                shuffle=True,\n",
    "                validation_data=(x_test_noisy, x_test),\n",
    "                callbacks=[TensorBoard(log_dir='/tmp/tb', histogram_freq=0, write_graph=False)])"
   ]
  },
  {
   "cell_type": "code",
   "execution_count": 22,
   "metadata": {
    "execution": {
     "iopub.execute_input": "2021-03-03T22:09:45.222300Z",
     "iopub.status.busy": "2021-03-03T22:09:45.221191Z",
     "iopub.status.idle": "2021-03-03T22:09:46.540960Z",
     "shell.execute_reply": "2021-03-03T22:09:46.540479Z"
    },
    "papermill": {
     "duration": 4.535108,
     "end_time": "2021-03-03T22:09:46.541098",
     "exception": false,
     "start_time": "2021-03-03T22:09:42.005990",
     "status": "completed"
    },
    "tags": []
   },
   "outputs": [
    {
     "data": {
      "image/png": "[encoded data removed]",
      "text/plain": [
       "<Figure size 1440x288 with 20 Axes>"
      ]
     },
     "metadata": {
      "needs_background": "light"
     },
     "output_type": "display_data"
    }
   ],
   "source": [
    "decoded_imgs = autoencoder.predict(x_test_noisy)\n",
    "\n",
    "n = 10\n",
    "plt.figure(figsize=(20, 4))\n",
    "for i in range(1, n + 1):\n",
    "    # Display original\n",
    "    ax = plt.subplot(2, n, i)\n",
    "    plt.imshow(x_test_noisy[i].reshape(28, 28))\n",
    "    plt.gray()\n",
    "    ax.get_xaxis().set_visible(False)\n",
    "    ax.get_yaxis().set_visible(False)\n",
    "\n",
    "    # Display reconstruction\n",
    "    ax = plt.subplot(2, n, i + n)\n",
    "    plt.imshow(decoded_imgs[i].reshape(28, 28))\n",
    "    plt.gray()\n",
    "    ax.get_xaxis().set_visible(False)\n",
    "    ax.get_yaxis().set_visible(False)\n",
    "plt.show()"
   ]
  }
 ],
 "metadata": {
  "kernelspec": {
   "display_name": "Python 3",
   "language": "python",
   "name": "python3"
  },
  "language_info": {
   "codemirror_mode": {
    "name": "ipython",
    "version": 3
   },
   "file_extension": ".py",
   "mimetype": "text/x-python",
   "name": "python",
   "nbconvert_exporter": "python",
   "pygments_lexer": "ipython3",
   "version": "3.7.9"
  },
  "papermill": {
   "default_parameters": {},
   "duration": 591.52324,
   "end_time": "2021-03-03T22:09:52.948103",
   "environment_variables": {},
   "exception": null,
   "input_path": "__notebook__.ipynb",
   "output_path": "__notebook__.ipynb",
   "parameters": {},
   "start_time": "2021-03-03T22:00:01.424863",
   "version": "2.2.2"
  }
 },
 "nbformat": 4,
 "nbformat_minor": 4
}
