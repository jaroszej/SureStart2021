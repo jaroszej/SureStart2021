{
  "nbformat": 4,
  "nbformat_minor": 0,
  "metadata": {
    "colab": {
      "name": "Untitled0.ipynb",
      "provenance": []
    },
    "kernelspec": {
      "name": "python3",
      "display_name": "Python 3"
    },
    "accelerator": "GPU"
  },
  "cells": [
    {
      "cell_type": "code",
      "metadata": {
        "id": "Jhx_hKuKCZor"
      },
      "source": [
        "import pandas as pd"
      ],
      "execution_count": 1,
      "outputs": []
    },
    {
      "cell_type": "code",
      "metadata": {
        "id": "uo5aZ5eLDycn"
      },
      "source": [
        "df = pd.read_csv('/content/housepricedata.csv')"
      ],
      "execution_count": 2,
      "outputs": []
    },
    {
      "cell_type": "code",
      "metadata": {
        "colab": {
          "base_uri": "https://localhost:8080/",
          "height": 419
        },
        "id": "hXTDb6_OD12V",
        "outputId": "e035dc54-9372-420b-a873-725bea2377c4"
      },
      "source": [
        "df"
      ],
      "execution_count": 3,
      "outputs": [
        {
          "output_type": "execute_result",
          "data": {
            "text/html": [
              "<div>\n",
              "<style scoped>\n",
              "    .dataframe tbody tr th:only-of-type {\n",
              "        vertical-align: middle;\n",
              "    }\n",
              "\n",
              "    .dataframe tbody tr th {\n",
              "        vertical-align: top;\n",
              "    }\n",
              "\n",
              "    .dataframe thead th {\n",
              "        text-align: right;\n",
              "    }\n",
              "</style>\n",
              "<table border=\"1\" class=\"dataframe\">\n",
              "  <thead>\n",
              "    <tr style=\"text-align: right;\">\n",
              "      <th></th>\n",
              "      <th>LotArea</th>\n",
              "      <th>OverallQual</th>\n",
              "      <th>OverallCond</th>\n",
              "      <th>TotalBsmtSF</th>\n",
              "      <th>FullBath</th>\n",
              "      <th>HalfBath</th>\n",
              "      <th>BedroomAbvGr</th>\n",
              "      <th>TotRmsAbvGrd</th>\n",
              "      <th>Fireplaces</th>\n",
              "      <th>GarageArea</th>\n",
              "      <th>AboveMedianPrice</th>\n",
              "    </tr>\n",
              "  </thead>\n",
              "  <tbody>\n",
              "    <tr>\n",
              "      <th>0</th>\n",
              "      <td>8450</td>\n",
              "      <td>7</td>\n",
              "      <td>5</td>\n",
              "      <td>856</td>\n",
              "      <td>2</td>\n",
              "      <td>1</td>\n",
              "      <td>3</td>\n",
              "      <td>8</td>\n",
              "      <td>0</td>\n",
              "      <td>548</td>\n",
              "      <td>1</td>\n",
              "    </tr>\n",
              "    <tr>\n",
              "      <th>1</th>\n",
              "      <td>9600</td>\n",
              "      <td>6</td>\n",
              "      <td>8</td>\n",
              "      <td>1262</td>\n",
              "      <td>2</td>\n",
              "      <td>0</td>\n",
              "      <td>3</td>\n",
              "      <td>6</td>\n",
              "      <td>1</td>\n",
              "      <td>460</td>\n",
              "      <td>1</td>\n",
              "    </tr>\n",
              "    <tr>\n",
              "      <th>2</th>\n",
              "      <td>11250</td>\n",
              "      <td>7</td>\n",
              "      <td>5</td>\n",
              "      <td>920</td>\n",
              "      <td>2</td>\n",
              "      <td>1</td>\n",
              "      <td>3</td>\n",
              "      <td>6</td>\n",
              "      <td>1</td>\n",
              "      <td>608</td>\n",
              "      <td>1</td>\n",
              "    </tr>\n",
              "    <tr>\n",
              "      <th>3</th>\n",
              "      <td>9550</td>\n",
              "      <td>7</td>\n",
              "      <td>5</td>\n",
              "      <td>756</td>\n",
              "      <td>1</td>\n",
              "      <td>0</td>\n",
              "      <td>3</td>\n",
              "      <td>7</td>\n",
              "      <td>1</td>\n",
              "      <td>642</td>\n",
              "      <td>0</td>\n",
              "    </tr>\n",
              "    <tr>\n",
              "      <th>4</th>\n",
              "      <td>14260</td>\n",
              "      <td>8</td>\n",
              "      <td>5</td>\n",
              "      <td>1145</td>\n",
              "      <td>2</td>\n",
              "      <td>1</td>\n",
              "      <td>4</td>\n",
              "      <td>9</td>\n",
              "      <td>1</td>\n",
              "      <td>836</td>\n",
              "      <td>1</td>\n",
              "    </tr>\n",
              "    <tr>\n",
              "      <th>...</th>\n",
              "      <td>...</td>\n",
              "      <td>...</td>\n",
              "      <td>...</td>\n",
              "      <td>...</td>\n",
              "      <td>...</td>\n",
              "      <td>...</td>\n",
              "      <td>...</td>\n",
              "      <td>...</td>\n",
              "      <td>...</td>\n",
              "      <td>...</td>\n",
              "      <td>...</td>\n",
              "    </tr>\n",
              "    <tr>\n",
              "      <th>1455</th>\n",
              "      <td>7917</td>\n",
              "      <td>6</td>\n",
              "      <td>5</td>\n",
              "      <td>953</td>\n",
              "      <td>2</td>\n",
              "      <td>1</td>\n",
              "      <td>3</td>\n",
              "      <td>7</td>\n",
              "      <td>1</td>\n",
              "      <td>460</td>\n",
              "      <td>1</td>\n",
              "    </tr>\n",
              "    <tr>\n",
              "      <th>1456</th>\n",
              "      <td>13175</td>\n",
              "      <td>6</td>\n",
              "      <td>6</td>\n",
              "      <td>1542</td>\n",
              "      <td>2</td>\n",
              "      <td>0</td>\n",
              "      <td>3</td>\n",
              "      <td>7</td>\n",
              "      <td>2</td>\n",
              "      <td>500</td>\n",
              "      <td>1</td>\n",
              "    </tr>\n",
              "    <tr>\n",
              "      <th>1457</th>\n",
              "      <td>9042</td>\n",
              "      <td>7</td>\n",
              "      <td>9</td>\n",
              "      <td>1152</td>\n",
              "      <td>2</td>\n",
              "      <td>0</td>\n",
              "      <td>4</td>\n",
              "      <td>9</td>\n",
              "      <td>2</td>\n",
              "      <td>252</td>\n",
              "      <td>1</td>\n",
              "    </tr>\n",
              "    <tr>\n",
              "      <th>1458</th>\n",
              "      <td>9717</td>\n",
              "      <td>5</td>\n",
              "      <td>6</td>\n",
              "      <td>1078</td>\n",
              "      <td>1</td>\n",
              "      <td>0</td>\n",
              "      <td>2</td>\n",
              "      <td>5</td>\n",
              "      <td>0</td>\n",
              "      <td>240</td>\n",
              "      <td>0</td>\n",
              "    </tr>\n",
              "    <tr>\n",
              "      <th>1459</th>\n",
              "      <td>9937</td>\n",
              "      <td>5</td>\n",
              "      <td>6</td>\n",
              "      <td>1256</td>\n",
              "      <td>1</td>\n",
              "      <td>1</td>\n",
              "      <td>3</td>\n",
              "      <td>6</td>\n",
              "      <td>0</td>\n",
              "      <td>276</td>\n",
              "      <td>0</td>\n",
              "    </tr>\n",
              "  </tbody>\n",
              "</table>\n",
              "<p>1460 rows × 11 columns</p>\n",
              "</div>"
            ],
            "text/plain": [
              "      LotArea  OverallQual  ...  GarageArea  AboveMedianPrice\n",
              "0        8450            7  ...         548                 1\n",
              "1        9600            6  ...         460                 1\n",
              "2       11250            7  ...         608                 1\n",
              "3        9550            7  ...         642                 0\n",
              "4       14260            8  ...         836                 1\n",
              "...       ...          ...  ...         ...               ...\n",
              "1455     7917            6  ...         460                 1\n",
              "1456    13175            6  ...         500                 1\n",
              "1457     9042            7  ...         252                 1\n",
              "1458     9717            5  ...         240                 0\n",
              "1459     9937            5  ...         276                 0\n",
              "\n",
              "[1460 rows x 11 columns]"
            ]
          },
          "metadata": {
            "tags": []
          },
          "execution_count": 3
        }
      ]
    },
    {
      "cell_type": "markdown",
      "metadata": {
        "id": "cKKckcXqkjFk"
      },
      "source": [
        "Our housing data has the following categories:\r\n",
        "Lot Area (in sq.ft.)  \r\n",
        "\r\n",
        "Overall Quality (from 1-10)\r\n",
        "\r\n",
        "Overall Condition (from 1-10)\r\n",
        "\r\n",
        "Total Basement Area (in sq.ft.)\r\n",
        "\r\n",
        "\\# of Full Bathrooms\r\n",
        "\r\n",
        "\\# of Half Bathrooms\r\n",
        "\r\n",
        "\\# of Bedrooms above ground\r\n",
        "\r\n",
        "Total \\# of Rooms above ground\r\n",
        "\r\n",
        "\\# of Fireplaces\r\n",
        "\r\n",
        "Garage Area (in sq.ft.)\r\n",
        "\r\n",
        "Lastly we have the prediction category- Above Median Price, 0 = no, 1 = yes"
      ]
    },
    {
      "cell_type": "code",
      "metadata": {
        "id": "4OpAiWrCD3Fo"
      },
      "source": [
        "dataset = df.values"
      ],
      "execution_count": 4,
      "outputs": []
    },
    {
      "cell_type": "markdown",
      "metadata": {
        "id": "6DTAND5_lT3E"
      },
      "source": [
        "We will convert our data into arrays to process. Here is how the data looks now..."
      ]
    },
    {
      "cell_type": "code",
      "metadata": {
        "colab": {
          "base_uri": "https://localhost:8080/"
        },
        "id": "1T3kIa-ZD5c1",
        "outputId": "cf3cfd54-1503-4795-a69a-79c498a39c4c"
      },
      "source": [
        "dataset"
      ],
      "execution_count": 5,
      "outputs": [
        {
          "output_type": "execute_result",
          "data": {
            "text/plain": [
              "array([[ 8450,     7,     5, ...,     0,   548,     1],\n",
              "       [ 9600,     6,     8, ...,     1,   460,     1],\n",
              "       [11250,     7,     5, ...,     1,   608,     1],\n",
              "       ...,\n",
              "       [ 9042,     7,     9, ...,     2,   252,     1],\n",
              "       [ 9717,     5,     6, ...,     0,   240,     0],\n",
              "       [ 9937,     5,     6, ...,     0,   276,     0]])"
            ]
          },
          "metadata": {
            "tags": []
          },
          "execution_count": 5
        }
      ]
    },
    {
      "cell_type": "markdown",
      "metadata": {
        "id": "VcqFSDk6lmIr"
      },
      "source": [
        "The first 10 columns of our dataset will go into X and our last column, the prediction variable will go into Y"
      ]
    },
    {
      "cell_type": "code",
      "metadata": {
        "id": "3_CQ_kIDD6nY"
      },
      "source": [
        "X = dataset[:,0:10]"
      ],
      "execution_count": 6,
      "outputs": []
    },
    {
      "cell_type": "code",
      "metadata": {
        "id": "YuhzI3BrD8ci"
      },
      "source": [
        "Y = dataset[:,10]"
      ],
      "execution_count": 7,
      "outputs": []
    },
    {
      "cell_type": "markdown",
      "metadata": {
        "id": "BKu_S8jwly3x"
      },
      "source": [
        "We now have to do some normalization so values with HUGE numbers don't outweigh smaller values. It would not make sense for 3 bathrooms (you'll never have to wait to use the toilet just because somebody is getting ready in the morning!) to have far less input in the model than a tiny 100 sq.ft. garage.\r\n",
        "Values will be scaled between 0 and 1"
      ]
    },
    {
      "cell_type": "code",
      "metadata": {
        "id": "4nT-q2rSD9lM"
      },
      "source": [
        "from sklearn import preprocessing"
      ],
      "execution_count": 8,
      "outputs": []
    },
    {
      "cell_type": "code",
      "metadata": {
        "id": "dsDcOJ7aD-6f"
      },
      "source": [
        "min_max_scaler = preprocessing.MinMaxScaler()\r\n",
        "X_scale = min_max_scaler.fit_transform(X)"
      ],
      "execution_count": 9,
      "outputs": []
    },
    {
      "cell_type": "code",
      "metadata": {
        "colab": {
          "base_uri": "https://localhost:8080/"
        },
        "id": "B2RBrL8jD_4L",
        "outputId": "a43ca0a3-1703-4121-f8fc-ae82398ebfa5"
      },
      "source": [
        "X_scale"
      ],
      "execution_count": 10,
      "outputs": [
        {
          "output_type": "execute_result",
          "data": {
            "text/plain": [
              "array([[0.0334198 , 0.66666667, 0.5       , ..., 0.5       , 0.        ,\n",
              "        0.3864598 ],\n",
              "       [0.03879502, 0.55555556, 0.875     , ..., 0.33333333, 0.33333333,\n",
              "        0.32440056],\n",
              "       [0.04650728, 0.66666667, 0.5       , ..., 0.33333333, 0.33333333,\n",
              "        0.42877292],\n",
              "       ...,\n",
              "       [0.03618687, 0.66666667, 1.        , ..., 0.58333333, 0.66666667,\n",
              "        0.17771509],\n",
              "       [0.03934189, 0.44444444, 0.625     , ..., 0.25      , 0.        ,\n",
              "        0.16925247],\n",
              "       [0.04037019, 0.44444444, 0.625     , ..., 0.33333333, 0.        ,\n",
              "        0.19464034]])"
            ]
          },
          "metadata": {
            "tags": []
          },
          "execution_count": 10
        }
      ]
    },
    {
      "cell_type": "markdown",
      "metadata": {
        "id": "O939gBT4mp9Y"
      },
      "source": [
        "Now, we can split our dataset into a training set, validation set, and test set. 30% of the data will be split into validation and test. Then 50% of that split will be split again. (sklearn 'train_test_split' only splits into two categories and we have three to make)"
      ]
    },
    {
      "cell_type": "code",
      "metadata": {
        "id": "waZyJ-g1EA48"
      },
      "source": [
        "from sklearn.model_selection import train_test_split"
      ],
      "execution_count": 11,
      "outputs": []
    },
    {
      "cell_type": "code",
      "metadata": {
        "id": "g3lJc1s1EB72"
      },
      "source": [
        "X_train, X_val_and_test, Y_train, Y_val_and_test = train_test_split(X_scale, Y, test_size=0.3)"
      ],
      "execution_count": 12,
      "outputs": []
    },
    {
      "cell_type": "code",
      "metadata": {
        "id": "e-3y75etECvt"
      },
      "source": [
        "X_val, X_test, Y_val, Y_test = train_test_split(X_val_and_test, Y_val_and_test, test_size=0.5)"
      ],
      "execution_count": 13,
      "outputs": []
    },
    {
      "cell_type": "code",
      "metadata": {
        "colab": {
          "base_uri": "https://localhost:8080/"
        },
        "id": "ypkgTFPWEDoA",
        "outputId": "23eccdbe-0778-4602-d034-c026c4c4c3cc"
      },
      "source": [
        "print(X_train.shape, X_val.shape, X_test.shape, Y_train.shape, Y_val.shape, Y_test.shape)"
      ],
      "execution_count": 14,
      "outputs": [
        {
          "output_type": "stream",
          "text": [
            "(1022, 10) (219, 10) (219, 10) (1022,) (219,) (219,)\n"
          ],
          "name": "stdout"
        }
      ]
    },
    {
      "cell_type": "markdown",
      "metadata": {
        "id": "XmtEOmCOnQU1"
      },
      "source": [
        "We now have six variables for datasets: \r\n",
        "\r\n",
        "\r\n",
        "\r\n",
        "*   X_train (10 input features, 70% of full dataset)\r\n",
        "*   X_val (10 input features, 15% of full dataset)\r\n",
        "*   X_test (10 input features, 15% of full dataset)\r\n",
        "*   Y_train (1 label, 15% of full dataset)\r\n",
        "*   Y_val (1 label, 15% of full dataset)\r\n",
        "*   Y_test (1 label, 15% of full dataset)\r\n",
        "\r\n",
        "It's time to build and train our neural network\r\n"
      ]
    },
    {
      "cell_type": "code",
      "metadata": {
        "id": "sGOJDW1-EI0w"
      },
      "source": [
        "from keras.models import Sequential\r\n",
        "from keras.layers import Dense\r\n",
        "from keras.losses import MeanSquaredError\r\n",
        "import tensorflow as tf"
      ],
      "execution_count": 15,
      "outputs": []
    },
    {
      "cell_type": "markdown",
      "metadata": {
        "id": "bdGbt7t5oOfH"
      },
      "source": [
        "The model has 4 layers:\r\n",
        "Input layer with 10 inputs, 2 hidden layers with 32 neurons each, and an output layer with 1 output."
      ]
    },
    {
      "cell_type": "code",
      "metadata": {
        "id": "IewR_NOgELPG"
      },
      "source": [
        "model = Sequential([\r\n",
        "    Dense(32, activation='relu', input_shape=(10,)),\r\n",
        "    Dense(32, activation='relu'),\r\n",
        "    Dense(1, activation='sigmoid'),\r\n",
        "])"
      ],
      "execution_count": 16,
      "outputs": []
    },
    {
      "cell_type": "markdown",
      "metadata": {
        "id": "6UHGioHNoiiQ"
      },
      "source": [
        "\r\n",
        "\r\n",
        "```\r\n",
        "model = Sequential([...])\r\n",
        "```\r\n",
        "Our model, aptly stored in a variable called 'model' will be described layer by layer, \"sequentially\".\r\n",
        "```\r\n",
        "Dense(32, activation='relu', input_shape=(10,)),\r\n",
        "```\r\n",
        "Our first dense layer of 32 neurons uses ReLU activation and has input shape of 10 since there are 10 input features. Dense layers are fully connected layers.\r\n",
        "```\r\n",
        "Dense(32, activation='relu'),\r\n",
        "```\r\n",
        "Our second dense layer matches the first. Keras infers the shape from the previous layer's output.\r\n",
        "```\r\n",
        "Dense(1, activation='sigmoid'),\r\n",
        "```\r\n",
        "Our third layer is a dense layer with 1 neuron and sigmoid activation.\r\n",
        "\r\n",
        "Now that the architecture is configured, we have to tell the model:\r\n",
        "\r\n",
        "* Which algorithm to optimize with\r\n",
        "* Which loss function to use\r\n",
        "* What other metrics it should track besides loss"
      ]
    },
    {
      "cell_type": "code",
      "metadata": {
        "id": "sw2YXyRyEMkr"
      },
      "source": [
        "model.compile(optimizer='sgd',\r\n",
        "              loss='binary_crossentropy',\r\n",
        "              metrics=[tf.keras.metrics.MeanSquaredError()])"
      ],
      "execution_count": 17,
      "outputs": []
    },
    {
      "cell_type": "markdown",
      "metadata": {
        "id": "Xyr2ydOmqYvV"
      },
      "source": [
        "```\r\n",
        "optimizer='sgd'\r\n",
        "```\r\n",
        "Stochastic gradient descent (sgd) optimizes the function \r\n",
        "```\r\n",
        "loss='binary_crossentropy'\r\n",
        "```\r\n",
        "Binary cross entropy is used to measure loss when classifying two categories\r\n",
        "```\r\n",
        "metrics=['accuracy']\r\n",
        "```\r\n",
        "Accuracy will also be tracked\r\n",
        "\r\n",
        "We can train the model!"
      ]
    },
    {
      "cell_type": "markdown",
      "metadata": {
        "id": "lOpnfeB8r3BY"
      },
      "source": [
        "We use the training data to fit the parameters to. The validation data shows us how well the model is training. Saving this in a variable 'hist' will help us visualize the training."
      ]
    },
    {
      "cell_type": "code",
      "metadata": {
        "colab": {
          "base_uri": "https://localhost:8080/"
        },
        "id": "lHJEK3EBEeQc",
        "outputId": "f3087b2a-4a31-44f4-e9a6-2b0a34ade608"
      },
      "source": [
        "hist = model.fit(X_train, Y_train,\r\n",
        "          batch_size=32, epochs=100,\r\n",
        "          validation_data=(X_val, Y_val))"
      ],
      "execution_count": 18,
      "outputs": [
        {
          "output_type": "stream",
          "text": [
            "Epoch 1/100\n",
            "32/32 [==============================] - 1s 13ms/step - loss: 0.7109 - mean_squared_error: 0.2587 - val_loss: 0.7153 - val_mean_squared_error: 0.2610\n",
            "Epoch 2/100\n",
            "32/32 [==============================] - 0s 3ms/step - loss: 0.7025 - mean_squared_error: 0.2547 - val_loss: 0.7020 - val_mean_squared_error: 0.2544\n",
            "Epoch 3/100\n",
            "32/32 [==============================] - 0s 3ms/step - loss: 0.6952 - mean_squared_error: 0.2510 - val_loss: 0.6930 - val_mean_squared_error: 0.2499\n",
            "Epoch 4/100\n",
            "32/32 [==============================] - 0s 3ms/step - loss: 0.6879 - mean_squared_error: 0.2474 - val_loss: 0.6860 - val_mean_squared_error: 0.2464\n",
            "Epoch 5/100\n",
            "32/32 [==============================] - 0s 3ms/step - loss: 0.6822 - mean_squared_error: 0.2445 - val_loss: 0.6802 - val_mean_squared_error: 0.2435\n",
            "Epoch 6/100\n",
            "32/32 [==============================] - 0s 3ms/step - loss: 0.6798 - mean_squared_error: 0.2433 - val_loss: 0.6751 - val_mean_squared_error: 0.2410\n",
            "Epoch 7/100\n",
            "32/32 [==============================] - 0s 3ms/step - loss: 0.6730 - mean_squared_error: 0.2399 - val_loss: 0.6696 - val_mean_squared_error: 0.2383\n",
            "Epoch 8/100\n",
            "32/32 [==============================] - 0s 3ms/step - loss: 0.6700 - mean_squared_error: 0.2385 - val_loss: 0.6649 - val_mean_squared_error: 0.2359\n",
            "Epoch 9/100\n",
            "32/32 [==============================] - 0s 3ms/step - loss: 0.6655 - mean_squared_error: 0.2362 - val_loss: 0.6594 - val_mean_squared_error: 0.2331\n",
            "Epoch 10/100\n",
            "32/32 [==============================] - 0s 3ms/step - loss: 0.6613 - mean_squared_error: 0.2341 - val_loss: 0.6537 - val_mean_squared_error: 0.2303\n",
            "Epoch 11/100\n",
            "32/32 [==============================] - 0s 3ms/step - loss: 0.6515 - mean_squared_error: 0.2292 - val_loss: 0.6486 - val_mean_squared_error: 0.2278\n",
            "Epoch 12/100\n",
            "32/32 [==============================] - 0s 3ms/step - loss: 0.6482 - mean_squared_error: 0.2276 - val_loss: 0.6433 - val_mean_squared_error: 0.2252\n",
            "Epoch 13/100\n",
            "32/32 [==============================] - 0s 3ms/step - loss: 0.6460 - mean_squared_error: 0.2265 - val_loss: 0.6379 - val_mean_squared_error: 0.2225\n",
            "Epoch 14/100\n",
            "32/32 [==============================] - 0s 3ms/step - loss: 0.6377 - mean_squared_error: 0.2224 - val_loss: 0.6316 - val_mean_squared_error: 0.2194\n",
            "Epoch 15/100\n",
            "32/32 [==============================] - 0s 3ms/step - loss: 0.6369 - mean_squared_error: 0.2220 - val_loss: 0.6259 - val_mean_squared_error: 0.2166\n",
            "Epoch 16/100\n",
            "32/32 [==============================] - 0s 3ms/step - loss: 0.6248 - mean_squared_error: 0.2160 - val_loss: 0.6194 - val_mean_squared_error: 0.2134\n",
            "Epoch 17/100\n",
            "32/32 [==============================] - 0s 3ms/step - loss: 0.6254 - mean_squared_error: 0.2164 - val_loss: 0.6137 - val_mean_squared_error: 0.2106\n",
            "Epoch 18/100\n",
            "32/32 [==============================] - 0s 3ms/step - loss: 0.6180 - mean_squared_error: 0.2127 - val_loss: 0.6075 - val_mean_squared_error: 0.2076\n",
            "Epoch 19/100\n",
            "32/32 [==============================] - 0s 3ms/step - loss: 0.6099 - mean_squared_error: 0.2088 - val_loss: 0.6003 - val_mean_squared_error: 0.2041\n",
            "Epoch 20/100\n",
            "32/32 [==============================] - 0s 3ms/step - loss: 0.6053 - mean_squared_error: 0.2066 - val_loss: 0.5932 - val_mean_squared_error: 0.2007\n",
            "Epoch 21/100\n",
            "32/32 [==============================] - 0s 3ms/step - loss: 0.5978 - mean_squared_error: 0.2029 - val_loss: 0.5842 - val_mean_squared_error: 0.1964\n",
            "Epoch 22/100\n",
            "32/32 [==============================] - 0s 3ms/step - loss: 0.5822 - mean_squared_error: 0.1954 - val_loss: 0.5768 - val_mean_squared_error: 0.1929\n",
            "Epoch 23/100\n",
            "32/32 [==============================] - 0s 3ms/step - loss: 0.5776 - mean_squared_error: 0.1932 - val_loss: 0.5677 - val_mean_squared_error: 0.1886\n",
            "Epoch 24/100\n",
            "32/32 [==============================] - 0s 3ms/step - loss: 0.5666 - mean_squared_error: 0.1880 - val_loss: 0.5599 - val_mean_squared_error: 0.1849\n",
            "Epoch 25/100\n",
            "32/32 [==============================] - 0s 3ms/step - loss: 0.5667 - mean_squared_error: 0.1881 - val_loss: 0.5506 - val_mean_squared_error: 0.1806\n",
            "Epoch 26/100\n",
            "32/32 [==============================] - 0s 3ms/step - loss: 0.5550 - mean_squared_error: 0.1827 - val_loss: 0.5430 - val_mean_squared_error: 0.1771\n",
            "Epoch 27/100\n",
            "32/32 [==============================] - 0s 3ms/step - loss: 0.5488 - mean_squared_error: 0.1798 - val_loss: 0.5336 - val_mean_squared_error: 0.1729\n",
            "Epoch 28/100\n",
            "32/32 [==============================] - 0s 3ms/step - loss: 0.5293 - mean_squared_error: 0.1708 - val_loss: 0.5245 - val_mean_squared_error: 0.1688\n",
            "Epoch 29/100\n",
            "32/32 [==============================] - 0s 3ms/step - loss: 0.5318 - mean_squared_error: 0.1722 - val_loss: 0.5153 - val_mean_squared_error: 0.1647\n",
            "Epoch 30/100\n",
            "32/32 [==============================] - 0s 3ms/step - loss: 0.5213 - mean_squared_error: 0.1675 - val_loss: 0.5045 - val_mean_squared_error: 0.1599\n",
            "Epoch 31/100\n",
            "32/32 [==============================] - 0s 3ms/step - loss: 0.5210 - mean_squared_error: 0.1674 - val_loss: 0.4960 - val_mean_squared_error: 0.1563\n",
            "Epoch 32/100\n",
            "32/32 [==============================] - 0s 3ms/step - loss: 0.4949 - mean_squared_error: 0.1554 - val_loss: 0.4863 - val_mean_squared_error: 0.1522\n",
            "Epoch 33/100\n",
            "32/32 [==============================] - 0s 3ms/step - loss: 0.4902 - mean_squared_error: 0.1539 - val_loss: 0.4759 - val_mean_squared_error: 0.1479\n",
            "Epoch 34/100\n",
            "32/32 [==============================] - 0s 3ms/step - loss: 0.4830 - mean_squared_error: 0.1509 - val_loss: 0.4661 - val_mean_squared_error: 0.1438\n",
            "Epoch 35/100\n",
            "32/32 [==============================] - 0s 3ms/step - loss: 0.4614 - mean_squared_error: 0.1416 - val_loss: 0.4571 - val_mean_squared_error: 0.1402\n",
            "Epoch 36/100\n",
            "32/32 [==============================] - 0s 3ms/step - loss: 0.4546 - mean_squared_error: 0.1389 - val_loss: 0.4502 - val_mean_squared_error: 0.1376\n",
            "Epoch 37/100\n",
            "32/32 [==============================] - 0s 3ms/step - loss: 0.4547 - mean_squared_error: 0.1393 - val_loss: 0.4402 - val_mean_squared_error: 0.1336\n",
            "Epoch 38/100\n",
            "32/32 [==============================] - 0s 3ms/step - loss: 0.4449 - mean_squared_error: 0.1351 - val_loss: 0.4309 - val_mean_squared_error: 0.1301\n",
            "Epoch 39/100\n",
            "32/32 [==============================] - 0s 3ms/step - loss: 0.4386 - mean_squared_error: 0.1329 - val_loss: 0.4229 - val_mean_squared_error: 0.1271\n",
            "Epoch 40/100\n",
            "32/32 [==============================] - 0s 3ms/step - loss: 0.4354 - mean_squared_error: 0.1324 - val_loss: 0.4151 - val_mean_squared_error: 0.1243\n",
            "Epoch 41/100\n",
            "32/32 [==============================] - 0s 3ms/step - loss: 0.4063 - mean_squared_error: 0.1201 - val_loss: 0.4083 - val_mean_squared_error: 0.1220\n",
            "Epoch 42/100\n",
            "32/32 [==============================] - 0s 3ms/step - loss: 0.4229 - mean_squared_error: 0.1279 - val_loss: 0.3996 - val_mean_squared_error: 0.1188\n",
            "Epoch 43/100\n",
            "32/32 [==============================] - 0s 3ms/step - loss: 0.4130 - mean_squared_error: 0.1248 - val_loss: 0.3914 - val_mean_squared_error: 0.1159\n",
            "Epoch 44/100\n",
            "32/32 [==============================] - 0s 3ms/step - loss: 0.4021 - mean_squared_error: 0.1201 - val_loss: 0.3864 - val_mean_squared_error: 0.1144\n",
            "Epoch 45/100\n",
            "32/32 [==============================] - 0s 3ms/step - loss: 0.3982 - mean_squared_error: 0.1188 - val_loss: 0.3792 - val_mean_squared_error: 0.1120\n",
            "Epoch 46/100\n",
            "32/32 [==============================] - 0s 3ms/step - loss: 0.3934 - mean_squared_error: 0.1167 - val_loss: 0.3727 - val_mean_squared_error: 0.1098\n",
            "Epoch 47/100\n",
            "32/32 [==============================] - 0s 4ms/step - loss: 0.3882 - mean_squared_error: 0.1153 - val_loss: 0.3662 - val_mean_squared_error: 0.1077\n",
            "Epoch 48/100\n",
            "32/32 [==============================] - 0s 3ms/step - loss: 0.3905 - mean_squared_error: 0.1163 - val_loss: 0.3607 - val_mean_squared_error: 0.1059\n",
            "Epoch 49/100\n",
            "32/32 [==============================] - 0s 3ms/step - loss: 0.3689 - mean_squared_error: 0.1083 - val_loss: 0.3564 - val_mean_squared_error: 0.1047\n",
            "Epoch 50/100\n",
            "32/32 [==============================] - 0s 3ms/step - loss: 0.3678 - mean_squared_error: 0.1094 - val_loss: 0.3512 - val_mean_squared_error: 0.1031\n",
            "Epoch 51/100\n",
            "32/32 [==============================] - 0s 4ms/step - loss: 0.3661 - mean_squared_error: 0.1085 - val_loss: 0.3445 - val_mean_squared_error: 0.1010\n",
            "Epoch 52/100\n",
            "32/32 [==============================] - 0s 3ms/step - loss: 0.3589 - mean_squared_error: 0.1059 - val_loss: 0.3427 - val_mean_squared_error: 0.1007\n",
            "Epoch 53/100\n",
            "32/32 [==============================] - 0s 3ms/step - loss: 0.3492 - mean_squared_error: 0.1022 - val_loss: 0.3368 - val_mean_squared_error: 0.0988\n",
            "Epoch 54/100\n",
            "32/32 [==============================] - 0s 3ms/step - loss: 0.3656 - mean_squared_error: 0.1101 - val_loss: 0.3319 - val_mean_squared_error: 0.0973\n",
            "Epoch 55/100\n",
            "32/32 [==============================] - 0s 3ms/step - loss: 0.3622 - mean_squared_error: 0.1061 - val_loss: 0.3293 - val_mean_squared_error: 0.0966\n",
            "Epoch 56/100\n",
            "32/32 [==============================] - 0s 3ms/step - loss: 0.3523 - mean_squared_error: 0.1049 - val_loss: 0.3251 - val_mean_squared_error: 0.0954\n",
            "Epoch 57/100\n",
            "32/32 [==============================] - 0s 3ms/step - loss: 0.3374 - mean_squared_error: 0.0978 - val_loss: 0.3216 - val_mean_squared_error: 0.0944\n",
            "Epoch 58/100\n",
            "32/32 [==============================] - 0s 3ms/step - loss: 0.3385 - mean_squared_error: 0.1013 - val_loss: 0.3199 - val_mean_squared_error: 0.0941\n",
            "Epoch 59/100\n",
            "32/32 [==============================] - 0s 3ms/step - loss: 0.3570 - mean_squared_error: 0.1076 - val_loss: 0.3165 - val_mean_squared_error: 0.0931\n",
            "Epoch 60/100\n",
            "32/32 [==============================] - 0s 3ms/step - loss: 0.3372 - mean_squared_error: 0.1005 - val_loss: 0.3144 - val_mean_squared_error: 0.0926\n",
            "Epoch 61/100\n",
            "32/32 [==============================] - 0s 3ms/step - loss: 0.3163 - mean_squared_error: 0.0903 - val_loss: 0.3109 - val_mean_squared_error: 0.0916\n",
            "Epoch 62/100\n",
            "32/32 [==============================] - 0s 3ms/step - loss: 0.3298 - mean_squared_error: 0.0979 - val_loss: 0.3088 - val_mean_squared_error: 0.0911\n",
            "Epoch 63/100\n",
            "32/32 [==============================] - 0s 3ms/step - loss: 0.3150 - mean_squared_error: 0.0902 - val_loss: 0.3048 - val_mean_squared_error: 0.0899\n",
            "Epoch 64/100\n",
            "32/32 [==============================] - 0s 3ms/step - loss: 0.3227 - mean_squared_error: 0.0956 - val_loss: 0.3034 - val_mean_squared_error: 0.0896\n",
            "Epoch 65/100\n",
            "32/32 [==============================] - 0s 3ms/step - loss: 0.3086 - mean_squared_error: 0.0908 - val_loss: 0.3005 - val_mean_squared_error: 0.0888\n",
            "Epoch 66/100\n",
            "32/32 [==============================] - 0s 3ms/step - loss: 0.3119 - mean_squared_error: 0.0902 - val_loss: 0.3014 - val_mean_squared_error: 0.0892\n",
            "Epoch 67/100\n",
            "32/32 [==============================] - 0s 3ms/step - loss: 0.3356 - mean_squared_error: 0.0993 - val_loss: 0.2965 - val_mean_squared_error: 0.0878\n",
            "Epoch 68/100\n",
            "32/32 [==============================] - 0s 3ms/step - loss: 0.3030 - mean_squared_error: 0.0890 - val_loss: 0.2955 - val_mean_squared_error: 0.0875\n",
            "Epoch 69/100\n",
            "32/32 [==============================] - 0s 3ms/step - loss: 0.3146 - mean_squared_error: 0.0905 - val_loss: 0.2936 - val_mean_squared_error: 0.0870\n",
            "Epoch 70/100\n",
            "32/32 [==============================] - 0s 3ms/step - loss: 0.2995 - mean_squared_error: 0.0880 - val_loss: 0.2913 - val_mean_squared_error: 0.0865\n",
            "Epoch 71/100\n",
            "32/32 [==============================] - 0s 3ms/step - loss: 0.3002 - mean_squared_error: 0.0856 - val_loss: 0.2902 - val_mean_squared_error: 0.0862\n",
            "Epoch 72/100\n",
            "32/32 [==============================] - 0s 3ms/step - loss: 0.3076 - mean_squared_error: 0.0899 - val_loss: 0.2882 - val_mean_squared_error: 0.0857\n",
            "Epoch 73/100\n",
            "32/32 [==============================] - 0s 3ms/step - loss: 0.3121 - mean_squared_error: 0.0935 - val_loss: 0.2868 - val_mean_squared_error: 0.0854\n",
            "Epoch 74/100\n",
            "32/32 [==============================] - 0s 3ms/step - loss: 0.3113 - mean_squared_error: 0.0911 - val_loss: 0.2855 - val_mean_squared_error: 0.0851\n",
            "Epoch 75/100\n",
            "32/32 [==============================] - 0s 3ms/step - loss: 0.3118 - mean_squared_error: 0.0927 - val_loss: 0.2845 - val_mean_squared_error: 0.0848\n",
            "Epoch 76/100\n",
            "32/32 [==============================] - 0s 3ms/step - loss: 0.2849 - mean_squared_error: 0.0837 - val_loss: 0.2837 - val_mean_squared_error: 0.0846\n",
            "Epoch 77/100\n",
            "32/32 [==============================] - 0s 3ms/step - loss: 0.2934 - mean_squared_error: 0.0874 - val_loss: 0.2819 - val_mean_squared_error: 0.0842\n",
            "Epoch 78/100\n",
            "32/32 [==============================] - 0s 3ms/step - loss: 0.2899 - mean_squared_error: 0.0859 - val_loss: 0.2819 - val_mean_squared_error: 0.0842\n",
            "Epoch 79/100\n",
            "32/32 [==============================] - 0s 3ms/step - loss: 0.2818 - mean_squared_error: 0.0837 - val_loss: 0.2807 - val_mean_squared_error: 0.0839\n",
            "Epoch 80/100\n",
            "32/32 [==============================] - 0s 3ms/step - loss: 0.3239 - mean_squared_error: 0.0948 - val_loss: 0.2788 - val_mean_squared_error: 0.0835\n",
            "Epoch 81/100\n",
            "32/32 [==============================] - 0s 3ms/step - loss: 0.2534 - mean_squared_error: 0.0722 - val_loss: 0.2795 - val_mean_squared_error: 0.0836\n",
            "Epoch 82/100\n",
            "32/32 [==============================] - 0s 3ms/step - loss: 0.2973 - mean_squared_error: 0.0881 - val_loss: 0.2780 - val_mean_squared_error: 0.0832\n",
            "Epoch 83/100\n",
            "32/32 [==============================] - 0s 3ms/step - loss: 0.2839 - mean_squared_error: 0.0831 - val_loss: 0.2762 - val_mean_squared_error: 0.0829\n",
            "Epoch 84/100\n",
            "32/32 [==============================] - 0s 3ms/step - loss: 0.3046 - mean_squared_error: 0.0895 - val_loss: 0.2759 - val_mean_squared_error: 0.0828\n",
            "Epoch 85/100\n",
            "32/32 [==============================] - 0s 3ms/step - loss: 0.2884 - mean_squared_error: 0.0863 - val_loss: 0.2746 - val_mean_squared_error: 0.0825\n",
            "Epoch 86/100\n",
            "32/32 [==============================] - 0s 3ms/step - loss: 0.2973 - mean_squared_error: 0.0908 - val_loss: 0.2748 - val_mean_squared_error: 0.0825\n",
            "Epoch 87/100\n",
            "32/32 [==============================] - 0s 3ms/step - loss: 0.2863 - mean_squared_error: 0.0850 - val_loss: 0.2742 - val_mean_squared_error: 0.0824\n",
            "Epoch 88/100\n",
            "32/32 [==============================] - 0s 3ms/step - loss: 0.2940 - mean_squared_error: 0.0879 - val_loss: 0.2726 - val_mean_squared_error: 0.0821\n",
            "Epoch 89/100\n",
            "32/32 [==============================] - 0s 3ms/step - loss: 0.2896 - mean_squared_error: 0.0874 - val_loss: 0.2721 - val_mean_squared_error: 0.0821\n",
            "Epoch 90/100\n",
            "32/32 [==============================] - 0s 3ms/step - loss: 0.2786 - mean_squared_error: 0.0828 - val_loss: 0.2714 - val_mean_squared_error: 0.0818\n",
            "Epoch 91/100\n",
            "32/32 [==============================] - 0s 3ms/step - loss: 0.2758 - mean_squared_error: 0.0815 - val_loss: 0.2708 - val_mean_squared_error: 0.0817\n",
            "Epoch 92/100\n",
            "32/32 [==============================] - 0s 3ms/step - loss: 0.2712 - mean_squared_error: 0.0788 - val_loss: 0.2712 - val_mean_squared_error: 0.0817\n",
            "Epoch 93/100\n",
            "32/32 [==============================] - 0s 3ms/step - loss: 0.2824 - mean_squared_error: 0.0837 - val_loss: 0.2699 - val_mean_squared_error: 0.0814\n",
            "Epoch 94/100\n",
            "32/32 [==============================] - 0s 3ms/step - loss: 0.2748 - mean_squared_error: 0.0819 - val_loss: 0.2698 - val_mean_squared_error: 0.0814\n",
            "Epoch 95/100\n",
            "32/32 [==============================] - 0s 3ms/step - loss: 0.2981 - mean_squared_error: 0.0882 - val_loss: 0.2686 - val_mean_squared_error: 0.0813\n",
            "Epoch 96/100\n",
            "32/32 [==============================] - 0s 3ms/step - loss: 0.2771 - mean_squared_error: 0.0826 - val_loss: 0.2683 - val_mean_squared_error: 0.0813\n",
            "Epoch 97/100\n",
            "32/32 [==============================] - 0s 3ms/step - loss: 0.2883 - mean_squared_error: 0.0845 - val_loss: 0.2685 - val_mean_squared_error: 0.0811\n",
            "Epoch 98/100\n",
            "32/32 [==============================] - 0s 3ms/step - loss: 0.2748 - mean_squared_error: 0.0811 - val_loss: 0.2671 - val_mean_squared_error: 0.0809\n",
            "Epoch 99/100\n",
            "32/32 [==============================] - 0s 3ms/step - loss: 0.2887 - mean_squared_error: 0.0883 - val_loss: 0.2668 - val_mean_squared_error: 0.0808\n",
            "Epoch 100/100\n",
            "32/32 [==============================] - 0s 4ms/step - loss: 0.2795 - mean_squared_error: 0.0841 - val_loss: 0.2665 - val_mean_squared_error: 0.0809\n"
          ],
          "name": "stdout"
        }
      ]
    },
    {
      "cell_type": "code",
      "metadata": {
        "colab": {
          "base_uri": "https://localhost:8080/"
        },
        "id": "V4HbrV9PEfwR",
        "outputId": "0d5b8457-4168-40d4-deed-15581c1211eb"
      },
      "source": [
        "model.evaluate(X_test, Y_test)[1]"
      ],
      "execution_count": 19,
      "outputs": [
        {
          "output_type": "stream",
          "text": [
            "7/7 [==============================] - 0s 2ms/step - loss: 0.2833 - mean_squared_error: 0.0887\n"
          ],
          "name": "stdout"
        },
        {
          "output_type": "execute_result",
          "data": {
            "text/plain": [
              "0.08867383748292923"
            ]
          },
          "metadata": {
            "tags": []
          },
          "execution_count": 19
        }
      ]
    },
    {
      "cell_type": "code",
      "metadata": {
        "id": "OtCeglavEgte"
      },
      "source": [
        "import matplotlib.pyplot as plt"
      ],
      "execution_count": 20,
      "outputs": []
    },
    {
      "cell_type": "code",
      "metadata": {
        "colab": {
          "base_uri": "https://localhost:8080/",
          "height": 295
        },
        "id": "UvaAJt21Ehhe",
        "outputId": "44e68f17-245b-424b-977b-71688c11d654"
      },
      "source": [
        "plt.plot(hist.history['loss'])\r\n",
        "plt.plot(hist.history['val_loss'])\r\n",
        "plt.title('Model loss')\r\n",
        "plt.ylabel('Loss')\r\n",
        "plt.xlabel('Epoch')\r\n",
        "plt.legend(['Train', 'Val'], loc='upper right')\r\n",
        "plt.show()"
      ],
      "execution_count": 21,
      "outputs": [
        {
          "output_type": "display_data",
          "data": {
            "image/png": "[encoded data removed]",
            "text/plain": [
              "<Figure size 432x288 with 1 Axes>"
            ]
          },
          "metadata": {
            "tags": [],
            "needs_background": "light"
          }
        }
      ]
    },
    {
      "cell_type": "code",
      "metadata": {
        "colab": {
          "base_uri": "https://localhost:8080/",
          "height": 295
        },
        "id": "W17-7B8FEiSM",
        "outputId": "f0d2b4d4-bfe7-41a3-bb65-5f5deff54e0d"
      },
      "source": [
        "plt.plot(hist.history['mean_squared_error'])\r\n",
        "plt.plot(hist.history['val_mean_squared_error'])\r\n",
        "plt.title('Model Mean Squared Error')\r\n",
        "plt.ylabel('Mean Squared Error')\r\n",
        "plt.xlabel('Epoch')\r\n",
        "plt.legend(['Train', 'Val'], loc='upper right')\r\n",
        "plt.show()"
      ],
      "execution_count": 22,
      "outputs": [
        {
          "output_type": "display_data",
          "data": {
            "image/png": "[encoded data removed]",
            "text/plain": [
              "<Figure size 432x288 with 1 Axes>"
            ]
          },
          "metadata": {
            "tags": [],
            "needs_background": "light"
          }
        }
      ]
    },
    {
      "cell_type": "markdown",
      "metadata": {
        "id": "IczgNzOOsws5"
      },
      "source": [
        "For the sake of practicing regularization, model 2 willbadly overfit the training set."
      ]
    },
    {
      "cell_type": "code",
      "metadata": {
        "id": "uscLVDDbEjHy"
      },
      "source": [
        "model_2 = Sequential([\r\n",
        "    Dense(1000, activation='relu', input_shape=(10,)),\r\n",
        "    Dense(1000, activation='relu'),\r\n",
        "    Dense(1000, activation='relu'),\r\n",
        "    Dense(1000, activation='relu'),\r\n",
        "    Dense(1, activation='sigmoid'),\r\n",
        "])"
      ],
      "execution_count": 23,
      "outputs": []
    },
    {
      "cell_type": "code",
      "metadata": {
        "id": "cNgSvlG4Ej16"
      },
      "source": [
        "model_2.compile(optimizer='adam',\r\n",
        "              loss='binary_crossentropy',\r\n",
        "              metrics=[tf.keras.metrics.MeanSquaredError()])"
      ],
      "execution_count": 24,
      "outputs": []
    },
    {
      "cell_type": "code",
      "metadata": {
        "colab": {
          "base_uri": "https://localhost:8080/"
        },
        "id": "4eOBFIl5Ek3L",
        "outputId": "f4f84bca-8a4f-401e-ad2e-0d63723eb59f"
      },
      "source": [
        "hist_2 = model_2.fit(X_train, Y_train,\r\n",
        "          batch_size=32, epochs=100,\r\n",
        "          validation_data=(X_val, Y_val))"
      ],
      "execution_count": 25,
      "outputs": [
        {
          "output_type": "stream",
          "text": [
            "Epoch 1/100\n",
            "32/32 [==============================] - 1s 8ms/step - loss: 0.5551 - mean_squared_error: 0.1829 - val_loss: 0.3191 - val_mean_squared_error: 0.0977\n",
            "Epoch 2/100\n",
            "32/32 [==============================] - 0s 4ms/step - loss: 0.3701 - mean_squared_error: 0.1128 - val_loss: 0.2912 - val_mean_squared_error: 0.0926\n",
            "Epoch 3/100\n",
            "32/32 [==============================] - 0s 4ms/step - loss: 0.3695 - mean_squared_error: 0.1119 - val_loss: 0.2916 - val_mean_squared_error: 0.0919\n",
            "Epoch 4/100\n",
            "32/32 [==============================] - 0s 4ms/step - loss: 0.2908 - mean_squared_error: 0.0879 - val_loss: 0.2838 - val_mean_squared_error: 0.0842\n",
            "Epoch 5/100\n",
            "32/32 [==============================] - 0s 4ms/step - loss: 0.2558 - mean_squared_error: 0.0748 - val_loss: 0.2473 - val_mean_squared_error: 0.0783\n",
            "Epoch 6/100\n",
            "32/32 [==============================] - 0s 4ms/step - loss: 0.2259 - mean_squared_error: 0.0648 - val_loss: 0.2592 - val_mean_squared_error: 0.0843\n",
            "Epoch 7/100\n",
            "32/32 [==============================] - 0s 4ms/step - loss: 0.2324 - mean_squared_error: 0.0689 - val_loss: 0.2553 - val_mean_squared_error: 0.0814\n",
            "Epoch 8/100\n",
            "32/32 [==============================] - 0s 4ms/step - loss: 0.2532 - mean_squared_error: 0.0749 - val_loss: 0.2512 - val_mean_squared_error: 0.0747\n",
            "Epoch 9/100\n",
            "32/32 [==============================] - 0s 4ms/step - loss: 0.1984 - mean_squared_error: 0.0588 - val_loss: 0.2622 - val_mean_squared_error: 0.0791\n",
            "Epoch 10/100\n",
            "32/32 [==============================] - 0s 4ms/step - loss: 0.2097 - mean_squared_error: 0.0579 - val_loss: 0.3083 - val_mean_squared_error: 0.0909\n",
            "Epoch 11/100\n",
            "32/32 [==============================] - 0s 4ms/step - loss: 0.2583 - mean_squared_error: 0.0763 - val_loss: 0.2536 - val_mean_squared_error: 0.0811\n",
            "Epoch 12/100\n",
            "32/32 [==============================] - 0s 4ms/step - loss: 0.2111 - mean_squared_error: 0.0632 - val_loss: 0.2424 - val_mean_squared_error: 0.0736\n",
            "Epoch 13/100\n",
            "32/32 [==============================] - 0s 4ms/step - loss: 0.2416 - mean_squared_error: 0.0710 - val_loss: 0.2483 - val_mean_squared_error: 0.0757\n",
            "Epoch 14/100\n",
            "32/32 [==============================] - 0s 4ms/step - loss: 0.2327 - mean_squared_error: 0.0672 - val_loss: 0.2704 - val_mean_squared_error: 0.0854\n",
            "Epoch 15/100\n",
            "32/32 [==============================] - 0s 4ms/step - loss: 0.2438 - mean_squared_error: 0.0719 - val_loss: 0.2577 - val_mean_squared_error: 0.0780\n",
            "Epoch 16/100\n",
            "32/32 [==============================] - 0s 4ms/step - loss: 0.2087 - mean_squared_error: 0.0635 - val_loss: 0.2546 - val_mean_squared_error: 0.0767\n",
            "Epoch 17/100\n",
            "32/32 [==============================] - 0s 4ms/step - loss: 0.2130 - mean_squared_error: 0.0630 - val_loss: 0.2627 - val_mean_squared_error: 0.0806\n",
            "Epoch 18/100\n",
            "32/32 [==============================] - 0s 4ms/step - loss: 0.2047 - mean_squared_error: 0.0609 - val_loss: 0.2719 - val_mean_squared_error: 0.0859\n",
            "Epoch 19/100\n",
            "32/32 [==============================] - 0s 4ms/step - loss: 0.2612 - mean_squared_error: 0.0787 - val_loss: 0.2725 - val_mean_squared_error: 0.0795\n",
            "Epoch 20/100\n",
            "32/32 [==============================] - 0s 4ms/step - loss: 0.2166 - mean_squared_error: 0.0670 - val_loss: 0.2502 - val_mean_squared_error: 0.0752\n",
            "Epoch 21/100\n",
            "32/32 [==============================] - 0s 4ms/step - loss: 0.1841 - mean_squared_error: 0.0552 - val_loss: 0.2566 - val_mean_squared_error: 0.0774\n",
            "Epoch 22/100\n",
            "32/32 [==============================] - 0s 4ms/step - loss: 0.2090 - mean_squared_error: 0.0658 - val_loss: 0.2558 - val_mean_squared_error: 0.0738\n",
            "Epoch 23/100\n",
            "32/32 [==============================] - 0s 4ms/step - loss: 0.1806 - mean_squared_error: 0.0552 - val_loss: 0.2540 - val_mean_squared_error: 0.0775\n",
            "Epoch 24/100\n",
            "32/32 [==============================] - 0s 4ms/step - loss: 0.1854 - mean_squared_error: 0.0542 - val_loss: 0.2500 - val_mean_squared_error: 0.0741\n",
            "Epoch 25/100\n",
            "32/32 [==============================] - 0s 5ms/step - loss: 0.1831 - mean_squared_error: 0.0549 - val_loss: 0.2587 - val_mean_squared_error: 0.0802\n",
            "Epoch 26/100\n",
            "32/32 [==============================] - 0s 4ms/step - loss: 0.1801 - mean_squared_error: 0.0538 - val_loss: 0.2815 - val_mean_squared_error: 0.0832\n",
            "Epoch 27/100\n",
            "32/32 [==============================] - 0s 4ms/step - loss: 0.2075 - mean_squared_error: 0.0593 - val_loss: 0.2536 - val_mean_squared_error: 0.0728\n",
            "Epoch 28/100\n",
            "32/32 [==============================] - 0s 4ms/step - loss: 0.1904 - mean_squared_error: 0.0573 - val_loss: 0.2444 - val_mean_squared_error: 0.0743\n",
            "Epoch 29/100\n",
            "32/32 [==============================] - 0s 4ms/step - loss: 0.1775 - mean_squared_error: 0.0551 - val_loss: 0.3322 - val_mean_squared_error: 0.0934\n",
            "Epoch 30/100\n",
            "32/32 [==============================] - 0s 4ms/step - loss: 0.2122 - mean_squared_error: 0.0640 - val_loss: 0.2452 - val_mean_squared_error: 0.0759\n",
            "Epoch 31/100\n",
            "32/32 [==============================] - 0s 4ms/step - loss: 0.1841 - mean_squared_error: 0.0573 - val_loss: 0.3007 - val_mean_squared_error: 0.0906\n",
            "Epoch 32/100\n",
            "32/32 [==============================] - 0s 4ms/step - loss: 0.2125 - mean_squared_error: 0.0635 - val_loss: 0.2728 - val_mean_squared_error: 0.0786\n",
            "Epoch 33/100\n",
            "32/32 [==============================] - 0s 4ms/step - loss: 0.1828 - mean_squared_error: 0.0592 - val_loss: 0.2673 - val_mean_squared_error: 0.0804\n",
            "Epoch 34/100\n",
            "32/32 [==============================] - 0s 4ms/step - loss: 0.1928 - mean_squared_error: 0.0600 - val_loss: 0.2378 - val_mean_squared_error: 0.0727\n",
            "Epoch 35/100\n",
            "32/32 [==============================] - 0s 4ms/step - loss: 0.1984 - mean_squared_error: 0.0626 - val_loss: 0.2710 - val_mean_squared_error: 0.0780\n",
            "Epoch 36/100\n",
            "32/32 [==============================] - 0s 4ms/step - loss: 0.1531 - mean_squared_error: 0.0459 - val_loss: 0.2754 - val_mean_squared_error: 0.0827\n",
            "Epoch 37/100\n",
            "32/32 [==============================] - 0s 4ms/step - loss: 0.1949 - mean_squared_error: 0.0592 - val_loss: 0.3051 - val_mean_squared_error: 0.0782\n",
            "Epoch 38/100\n",
            "32/32 [==============================] - 0s 4ms/step - loss: 0.1702 - mean_squared_error: 0.0519 - val_loss: 0.2485 - val_mean_squared_error: 0.0790\n",
            "Epoch 39/100\n",
            "32/32 [==============================] - 0s 4ms/step - loss: 0.1664 - mean_squared_error: 0.0503 - val_loss: 0.2875 - val_mean_squared_error: 0.0795\n",
            "Epoch 40/100\n",
            "32/32 [==============================] - 0s 4ms/step - loss: 0.1880 - mean_squared_error: 0.0589 - val_loss: 0.2818 - val_mean_squared_error: 0.0858\n",
            "Epoch 41/100\n",
            "32/32 [==============================] - 0s 4ms/step - loss: 0.1774 - mean_squared_error: 0.0537 - val_loss: 0.2709 - val_mean_squared_error: 0.0832\n",
            "Epoch 42/100\n",
            "32/32 [==============================] - 0s 4ms/step - loss: 0.1759 - mean_squared_error: 0.0530 - val_loss: 0.2968 - val_mean_squared_error: 0.0808\n",
            "Epoch 43/100\n",
            "32/32 [==============================] - 0s 4ms/step - loss: 0.1691 - mean_squared_error: 0.0514 - val_loss: 0.3230 - val_mean_squared_error: 0.0974\n",
            "Epoch 44/100\n",
            "32/32 [==============================] - 0s 4ms/step - loss: 0.1697 - mean_squared_error: 0.0526 - val_loss: 0.3220 - val_mean_squared_error: 0.0806\n",
            "Epoch 45/100\n",
            "32/32 [==============================] - 0s 5ms/step - loss: 0.1851 - mean_squared_error: 0.0562 - val_loss: 0.3542 - val_mean_squared_error: 0.0922\n",
            "Epoch 46/100\n",
            "32/32 [==============================] - 0s 4ms/step - loss: 0.1810 - mean_squared_error: 0.0552 - val_loss: 0.2813 - val_mean_squared_error: 0.0774\n",
            "Epoch 47/100\n",
            "32/32 [==============================] - 0s 4ms/step - loss: 0.1660 - mean_squared_error: 0.0504 - val_loss: 0.3522 - val_mean_squared_error: 0.0998\n",
            "Epoch 48/100\n",
            "32/32 [==============================] - 0s 4ms/step - loss: 0.1693 - mean_squared_error: 0.0519 - val_loss: 0.2651 - val_mean_squared_error: 0.0787\n",
            "Epoch 49/100\n",
            "32/32 [==============================] - 0s 4ms/step - loss: 0.1703 - mean_squared_error: 0.0516 - val_loss: 0.2646 - val_mean_squared_error: 0.0761\n",
            "Epoch 50/100\n",
            "32/32 [==============================] - 0s 4ms/step - loss: 0.1547 - mean_squared_error: 0.0477 - val_loss: 0.3182 - val_mean_squared_error: 0.0840\n",
            "Epoch 51/100\n",
            "32/32 [==============================] - 0s 4ms/step - loss: 0.1662 - mean_squared_error: 0.0495 - val_loss: 0.2873 - val_mean_squared_error: 0.0868\n",
            "Epoch 52/100\n",
            "32/32 [==============================] - 0s 4ms/step - loss: 0.1853 - mean_squared_error: 0.0501 - val_loss: 0.2679 - val_mean_squared_error: 0.0793\n",
            "Epoch 53/100\n",
            "32/32 [==============================] - 0s 4ms/step - loss: 0.1742 - mean_squared_error: 0.0520 - val_loss: 0.3059 - val_mean_squared_error: 0.0788\n",
            "Epoch 54/100\n",
            "32/32 [==============================] - 0s 4ms/step - loss: 0.1650 - mean_squared_error: 0.0524 - val_loss: 0.2852 - val_mean_squared_error: 0.0809\n",
            "Epoch 55/100\n",
            "32/32 [==============================] - 0s 4ms/step - loss: 0.1762 - mean_squared_error: 0.0531 - val_loss: 0.3078 - val_mean_squared_error: 0.0751\n",
            "Epoch 56/100\n",
            "32/32 [==============================] - 0s 4ms/step - loss: 0.1594 - mean_squared_error: 0.0493 - val_loss: 0.3303 - val_mean_squared_error: 0.0860\n",
            "Epoch 57/100\n",
            "32/32 [==============================] - 0s 4ms/step - loss: 0.1523 - mean_squared_error: 0.0466 - val_loss: 0.3158 - val_mean_squared_error: 0.0833\n",
            "Epoch 58/100\n",
            "32/32 [==============================] - 0s 4ms/step - loss: 0.1639 - mean_squared_error: 0.0503 - val_loss: 0.3011 - val_mean_squared_error: 0.0785\n",
            "Epoch 59/100\n",
            "32/32 [==============================] - 0s 4ms/step - loss: 0.1524 - mean_squared_error: 0.0467 - val_loss: 0.3058 - val_mean_squared_error: 0.0939\n",
            "Epoch 60/100\n",
            "32/32 [==============================] - 0s 4ms/step - loss: 0.2253 - mean_squared_error: 0.0696 - val_loss: 0.2932 - val_mean_squared_error: 0.0902\n",
            "Epoch 61/100\n",
            "32/32 [==============================] - 0s 4ms/step - loss: 0.2135 - mean_squared_error: 0.0664 - val_loss: 0.3177 - val_mean_squared_error: 0.0803\n",
            "Epoch 62/100\n",
            "32/32 [==============================] - 0s 4ms/step - loss: 0.1332 - mean_squared_error: 0.0403 - val_loss: 0.2944 - val_mean_squared_error: 0.0817\n",
            "Epoch 63/100\n",
            "32/32 [==============================] - 0s 4ms/step - loss: 0.1472 - mean_squared_error: 0.0450 - val_loss: 0.2999 - val_mean_squared_error: 0.0811\n",
            "Epoch 64/100\n",
            "32/32 [==============================] - 0s 4ms/step - loss: 0.1590 - mean_squared_error: 0.0473 - val_loss: 0.2806 - val_mean_squared_error: 0.0856\n",
            "Epoch 65/100\n",
            "32/32 [==============================] - 0s 4ms/step - loss: 0.1638 - mean_squared_error: 0.0486 - val_loss: 0.2671 - val_mean_squared_error: 0.0801\n",
            "Epoch 66/100\n",
            "32/32 [==============================] - 0s 4ms/step - loss: 0.1387 - mean_squared_error: 0.0419 - val_loss: 0.2795 - val_mean_squared_error: 0.0817\n",
            "Epoch 67/100\n",
            "32/32 [==============================] - 0s 4ms/step - loss: 0.1385 - mean_squared_error: 0.0400 - val_loss: 0.3070 - val_mean_squared_error: 0.0891\n",
            "Epoch 68/100\n",
            "32/32 [==============================] - 0s 4ms/step - loss: 0.1591 - mean_squared_error: 0.0472 - val_loss: 0.3278 - val_mean_squared_error: 0.0828\n",
            "Epoch 69/100\n",
            "32/32 [==============================] - 0s 4ms/step - loss: 0.1384 - mean_squared_error: 0.0421 - val_loss: 0.3957 - val_mean_squared_error: 0.0853\n",
            "Epoch 70/100\n",
            "32/32 [==============================] - 0s 4ms/step - loss: 0.1366 - mean_squared_error: 0.0376 - val_loss: 0.3308 - val_mean_squared_error: 0.0855\n",
            "Epoch 71/100\n",
            "32/32 [==============================] - 0s 4ms/step - loss: 0.1285 - mean_squared_error: 0.0378 - val_loss: 0.3290 - val_mean_squared_error: 0.0855\n",
            "Epoch 72/100\n",
            "32/32 [==============================] - 0s 4ms/step - loss: 0.1214 - mean_squared_error: 0.0372 - val_loss: 0.3559 - val_mean_squared_error: 0.0879\n",
            "Epoch 73/100\n",
            "32/32 [==============================] - 0s 4ms/step - loss: 0.1405 - mean_squared_error: 0.0434 - val_loss: 0.3512 - val_mean_squared_error: 0.0815\n",
            "Epoch 74/100\n",
            "32/32 [==============================] - 0s 4ms/step - loss: 0.1422 - mean_squared_error: 0.0434 - val_loss: 0.3425 - val_mean_squared_error: 0.0931\n",
            "Epoch 75/100\n",
            "32/32 [==============================] - 0s 4ms/step - loss: 0.1732 - mean_squared_error: 0.0519 - val_loss: 0.3281 - val_mean_squared_error: 0.0815\n",
            "Epoch 76/100\n",
            "32/32 [==============================] - 0s 4ms/step - loss: 0.1266 - mean_squared_error: 0.0355 - val_loss: 0.3757 - val_mean_squared_error: 0.0840\n",
            "Epoch 77/100\n",
            "32/32 [==============================] - 0s 4ms/step - loss: 0.1419 - mean_squared_error: 0.0412 - val_loss: 0.4219 - val_mean_squared_error: 0.0884\n",
            "Epoch 78/100\n",
            "32/32 [==============================] - 0s 4ms/step - loss: 0.1437 - mean_squared_error: 0.0446 - val_loss: 0.3221 - val_mean_squared_error: 0.0844\n",
            "Epoch 79/100\n",
            "32/32 [==============================] - 0s 4ms/step - loss: 0.1507 - mean_squared_error: 0.0452 - val_loss: 0.3678 - val_mean_squared_error: 0.0864\n",
            "Epoch 80/100\n",
            "32/32 [==============================] - 0s 4ms/step - loss: 0.1110 - mean_squared_error: 0.0329 - val_loss: 0.3637 - val_mean_squared_error: 0.0871\n",
            "Epoch 81/100\n",
            "32/32 [==============================] - 0s 4ms/step - loss: 0.1411 - mean_squared_error: 0.0449 - val_loss: 0.4604 - val_mean_squared_error: 0.0998\n",
            "Epoch 82/100\n",
            "32/32 [==============================] - 0s 4ms/step - loss: 0.1368 - mean_squared_error: 0.0404 - val_loss: 0.3798 - val_mean_squared_error: 0.0876\n",
            "Epoch 83/100\n",
            "32/32 [==============================] - 0s 4ms/step - loss: 0.1240 - mean_squared_error: 0.0363 - val_loss: 0.3362 - val_mean_squared_error: 0.0873\n",
            "Epoch 84/100\n",
            "32/32 [==============================] - 0s 4ms/step - loss: 0.1137 - mean_squared_error: 0.0336 - val_loss: 0.3804 - val_mean_squared_error: 0.0903\n",
            "Epoch 85/100\n",
            "32/32 [==============================] - 0s 4ms/step - loss: 0.1144 - mean_squared_error: 0.0345 - val_loss: 0.4244 - val_mean_squared_error: 0.0883\n",
            "Epoch 86/100\n",
            "32/32 [==============================] - 0s 4ms/step - loss: 0.1086 - mean_squared_error: 0.0310 - val_loss: 0.4130 - val_mean_squared_error: 0.0927\n",
            "Epoch 87/100\n",
            "32/32 [==============================] - 0s 4ms/step - loss: 0.1344 - mean_squared_error: 0.0411 - val_loss: 0.4373 - val_mean_squared_error: 0.0897\n",
            "Epoch 88/100\n",
            "32/32 [==============================] - 0s 4ms/step - loss: 0.1146 - mean_squared_error: 0.0348 - val_loss: 0.5279 - val_mean_squared_error: 0.0916\n",
            "Epoch 89/100\n",
            "32/32 [==============================] - 0s 4ms/step - loss: 0.1033 - mean_squared_error: 0.0328 - val_loss: 0.3807 - val_mean_squared_error: 0.0934\n",
            "Epoch 90/100\n",
            "32/32 [==============================] - 0s 4ms/step - loss: 0.1346 - mean_squared_error: 0.0411 - val_loss: 0.4047 - val_mean_squared_error: 0.0896\n",
            "Epoch 91/100\n",
            "32/32 [==============================] - 0s 4ms/step - loss: 0.1348 - mean_squared_error: 0.0397 - val_loss: 0.4005 - val_mean_squared_error: 0.0913\n",
            "Epoch 92/100\n",
            "32/32 [==============================] - 0s 4ms/step - loss: 0.1321 - mean_squared_error: 0.0405 - val_loss: 0.3227 - val_mean_squared_error: 0.0866\n",
            "Epoch 93/100\n",
            "32/32 [==============================] - 0s 4ms/step - loss: 0.1366 - mean_squared_error: 0.0423 - val_loss: 0.4375 - val_mean_squared_error: 0.1019\n",
            "Epoch 94/100\n",
            "32/32 [==============================] - 0s 4ms/step - loss: 0.1271 - mean_squared_error: 0.0390 - val_loss: 0.4560 - val_mean_squared_error: 0.0930\n",
            "Epoch 95/100\n",
            "32/32 [==============================] - 0s 4ms/step - loss: 0.1438 - mean_squared_error: 0.0448 - val_loss: 0.4255 - val_mean_squared_error: 0.0881\n",
            "Epoch 96/100\n",
            "32/32 [==============================] - 0s 4ms/step - loss: 0.1230 - mean_squared_error: 0.0334 - val_loss: 0.3427 - val_mean_squared_error: 0.0893\n",
            "Epoch 97/100\n",
            "32/32 [==============================] - 0s 4ms/step - loss: 0.1317 - mean_squared_error: 0.0390 - val_loss: 0.4363 - val_mean_squared_error: 0.0869\n",
            "Epoch 98/100\n",
            "32/32 [==============================] - 0s 4ms/step - loss: 0.1054 - mean_squared_error: 0.0322 - val_loss: 0.4803 - val_mean_squared_error: 0.0934\n",
            "Epoch 99/100\n",
            "32/32 [==============================] - 0s 4ms/step - loss: 0.1094 - mean_squared_error: 0.0338 - val_loss: 0.5603 - val_mean_squared_error: 0.0941\n",
            "Epoch 100/100\n",
            "32/32 [==============================] - 0s 4ms/step - loss: 0.1066 - mean_squared_error: 0.0343 - val_loss: 0.4966 - val_mean_squared_error: 0.0946\n"
          ],
          "name": "stdout"
        }
      ]
    },
    {
      "cell_type": "markdown",
      "metadata": {
        "id": "TXZUKu7vtBpE"
      },
      "source": [
        "We can see, in the following graph, training loss is decreasing but validation is far above training loss and increasing."
      ]
    },
    {
      "cell_type": "code",
      "metadata": {
        "colab": {
          "base_uri": "https://localhost:8080/",
          "height": 295
        },
        "id": "YkkOeZyEEleW",
        "outputId": "b7042cfd-a753-4b95-9b3d-d01e74b88478"
      },
      "source": [
        "plt.plot(hist_2.history['loss'])\r\n",
        "plt.plot(hist_2.history['val_loss'])\r\n",
        "plt.title('Model loss')\r\n",
        "plt.ylabel('Loss')\r\n",
        "plt.xlabel('Epoch')\r\n",
        "plt.legend(['Train', 'Val'], loc='upper right')\r\n",
        "plt.show()"
      ],
      "execution_count": 26,
      "outputs": [
        {
          "output_type": "display_data",
          "data": {
            "image/png": "[encoded data removed]",
            "text/plain": [
              "<Figure size 432x288 with 1 Axes>"
            ]
          },
          "metadata": {
            "tags": [],
            "needs_background": "light"
          }
        }
      ]
    },
    {
      "cell_type": "markdown",
      "metadata": {
        "id": "SCJin3mAtLpi"
      },
      "source": [
        "We see mean squared error also diverge similarly. These are key signs of a model overfitting. It is effectively 'memorizing' the training dataset and is unable to generalize well and predict new data accurately."
      ]
    },
    {
      "cell_type": "code",
      "metadata": {
        "colab": {
          "base_uri": "https://localhost:8080/",
          "height": 295
        },
        "id": "uMS95bWxEmQm",
        "outputId": "ce9fda8e-850f-4655-fffd-93f27f2128d7"
      },
      "source": [
        "plt.plot(hist_2.history['mean_squared_error'])\r\n",
        "plt.plot(hist_2.history['val_mean_squared_error'])\r\n",
        "plt.title('Model Mean Squared Error')\r\n",
        "plt.ylabel('Mean Squared Error')\r\n",
        "plt.xlabel('Epoch')\r\n",
        "plt.legend(['Train', 'Val'], loc='upper right')\r\n",
        "plt.show()"
      ],
      "execution_count": 27,
      "outputs": [
        {
          "output_type": "display_data",
          "data": {
            "image/png": "[encoded data removed]",
            "text/plain": [
              "<Figure size 432x288 with 1 Axes>"
            ]
          },
          "metadata": {
            "tags": [],
            "needs_background": "light"
          }
        }
      ]
    },
    {
      "cell_type": "markdown",
      "metadata": {
        "id": "Turx3UPBjhVN"
      },
      "source": [
        "Dropout and L2 regularization can help solve this issue."
      ]
    },
    {
      "cell_type": "code",
      "metadata": {
        "id": "5iSam8-SEnIJ"
      },
      "source": [
        "from keras.layers import Dropout\r\n",
        "from keras import regularizers"
      ],
      "execution_count": 28,
      "outputs": []
    },
    {
      "cell_type": "markdown",
      "metadata": {
        "id": "F-Keg05ItpB4"
      },
      "source": [
        "Model 3 adds L2 regularization to include the squared values of parameters in our overall loss function, weighing them by 0.01 in the loss function. Additionally, Dropout is used to introduce a 30% probability that the neurons in the previous layer will drop out during training."
      ]
    },
    {
      "cell_type": "code",
      "metadata": {
        "id": "pDZxfu4IEoKF"
      },
      "source": [
        "model_3 = Sequential([\r\n",
        "    Dense(1000, activation='relu', kernel_regularizer=regularizers.l2(0.01), input_shape=(10,)),\r\n",
        "    Dropout(0.3),\r\n",
        "    Dense(1000, activation='relu', kernel_regularizer=regularizers.l2(0.01)),\r\n",
        "    Dropout(0.3),\r\n",
        "    Dense(1000, activation='relu', kernel_regularizer=regularizers.l2(0.01)),\r\n",
        "    Dropout(0.3),\r\n",
        "    Dense(1000, activation='relu', kernel_regularizer=regularizers.l2(0.01)),\r\n",
        "    Dropout(0.3),\r\n",
        "    Dense(1, activation='sigmoid', kernel_regularizer=regularizers.l2(0.01)),\r\n",
        "])"
      ],
      "execution_count": 29,
      "outputs": []
    },
    {
      "cell_type": "code",
      "metadata": {
        "id": "pLnYVa_kEpHe"
      },
      "source": [
        "model_3.compile(optimizer='adam',\r\n",
        "              loss='binary_crossentropy',\r\n",
        "              metrics=[tf.keras.metrics.MeanSquaredError()])"
      ],
      "execution_count": 30,
      "outputs": []
    },
    {
      "cell_type": "markdown",
      "metadata": {
        "id": "cAhKTCqWuNvZ"
      },
      "source": [
        "Running model 3 will show us the results of these modifications."
      ]
    },
    {
      "cell_type": "code",
      "metadata": {
        "colab": {
          "base_uri": "https://localhost:8080/"
        },
        "id": "jkool4LoEp1u",
        "outputId": "ec6beceb-37ae-4fa2-eec9-45b5f4d69b68"
      },
      "source": [
        "hist_3 = model_3.fit(X_train, Y_train,\r\n",
        "          batch_size=32, epochs=100,\r\n",
        "          validation_data=(X_val, Y_val))"
      ],
      "execution_count": 31,
      "outputs": [
        {
          "output_type": "stream",
          "text": [
            "Epoch 1/100\n",
            "32/32 [==============================] - 1s 10ms/step - loss: 21.1244 - mean_squared_error: 0.2421 - val_loss: 3.8619 - val_mean_squared_error: 0.1715\n",
            "Epoch 2/100\n",
            "32/32 [==============================] - 0s 5ms/step - loss: 2.4861 - mean_squared_error: 0.1562 - val_loss: 0.6210 - val_mean_squared_error: 0.0893\n",
            "Epoch 3/100\n",
            "32/32 [==============================] - 0s 5ms/step - loss: 0.6297 - mean_squared_error: 0.1174 - val_loss: 0.4814 - val_mean_squared_error: 0.0875\n",
            "Epoch 4/100\n",
            "32/32 [==============================] - 0s 5ms/step - loss: 0.5366 - mean_squared_error: 0.1074 - val_loss: 0.4606 - val_mean_squared_error: 0.0847\n",
            "Epoch 5/100\n",
            "32/32 [==============================] - 0s 4ms/step - loss: 0.4999 - mean_squared_error: 0.0953 - val_loss: 0.4670 - val_mean_squared_error: 0.0864\n",
            "Epoch 6/100\n",
            "32/32 [==============================] - 0s 4ms/step - loss: 0.4829 - mean_squared_error: 0.0916 - val_loss: 0.4504 - val_mean_squared_error: 0.0847\n",
            "Epoch 7/100\n",
            "32/32 [==============================] - 0s 5ms/step - loss: 0.4790 - mean_squared_error: 0.0948 - val_loss: 0.4600 - val_mean_squared_error: 0.0894\n",
            "Epoch 8/100\n",
            "32/32 [==============================] - 0s 5ms/step - loss: 0.4440 - mean_squared_error: 0.0825 - val_loss: 0.4429 - val_mean_squared_error: 0.0831\n",
            "Epoch 9/100\n",
            "32/32 [==============================] - 0s 4ms/step - loss: 0.4679 - mean_squared_error: 0.0918 - val_loss: 0.4523 - val_mean_squared_error: 0.0862\n",
            "Epoch 10/100\n",
            "32/32 [==============================] - 0s 5ms/step - loss: 0.4669 - mean_squared_error: 0.0905 - val_loss: 0.4437 - val_mean_squared_error: 0.0839\n",
            "Epoch 11/100\n",
            "32/32 [==============================] - 0s 5ms/step - loss: 0.4746 - mean_squared_error: 0.0953 - val_loss: 0.4351 - val_mean_squared_error: 0.0813\n",
            "Epoch 12/100\n",
            "32/32 [==============================] - 0s 4ms/step - loss: 0.4475 - mean_squared_error: 0.0836 - val_loss: 0.4819 - val_mean_squared_error: 0.0990\n",
            "Epoch 13/100\n",
            "32/32 [==============================] - 0s 4ms/step - loss: 0.4839 - mean_squared_error: 0.0974 - val_loss: 0.5205 - val_mean_squared_error: 0.1128\n",
            "Epoch 14/100\n",
            "32/32 [==============================] - 0s 4ms/step - loss: 0.4966 - mean_squared_error: 0.1018 - val_loss: 0.4878 - val_mean_squared_error: 0.1019\n",
            "Epoch 15/100\n",
            "32/32 [==============================] - 0s 5ms/step - loss: 0.4427 - mean_squared_error: 0.0850 - val_loss: 0.4679 - val_mean_squared_error: 0.0969\n",
            "Epoch 16/100\n",
            "32/32 [==============================] - 0s 5ms/step - loss: 0.4326 - mean_squared_error: 0.0780 - val_loss: 0.4484 - val_mean_squared_error: 0.0875\n",
            "Epoch 17/100\n",
            "32/32 [==============================] - 0s 4ms/step - loss: 0.4396 - mean_squared_error: 0.0824 - val_loss: 0.4972 - val_mean_squared_error: 0.1075\n",
            "Epoch 18/100\n",
            "32/32 [==============================] - 0s 5ms/step - loss: 0.4204 - mean_squared_error: 0.0771 - val_loss: 0.4411 - val_mean_squared_error: 0.0871\n",
            "Epoch 19/100\n",
            "32/32 [==============================] - 0s 4ms/step - loss: 0.4584 - mean_squared_error: 0.0913 - val_loss: 0.4722 - val_mean_squared_error: 0.0946\n",
            "Epoch 20/100\n",
            "32/32 [==============================] - 0s 5ms/step - loss: 0.4590 - mean_squared_error: 0.0887 - val_loss: 0.4292 - val_mean_squared_error: 0.0817\n",
            "Epoch 21/100\n",
            "32/32 [==============================] - 0s 5ms/step - loss: 0.4566 - mean_squared_error: 0.0881 - val_loss: 0.4210 - val_mean_squared_error: 0.0782\n",
            "Epoch 22/100\n",
            "32/32 [==============================] - 0s 4ms/step - loss: 0.4534 - mean_squared_error: 0.0860 - val_loss: 0.4226 - val_mean_squared_error: 0.0787\n",
            "Epoch 23/100\n",
            "32/32 [==============================] - 0s 4ms/step - loss: 0.4059 - mean_squared_error: 0.0716 - val_loss: 0.4216 - val_mean_squared_error: 0.0802\n",
            "Epoch 24/100\n",
            "32/32 [==============================] - 0s 4ms/step - loss: 0.4436 - mean_squared_error: 0.0848 - val_loss: 0.4729 - val_mean_squared_error: 0.0970\n",
            "Epoch 25/100\n",
            "32/32 [==============================] - 0s 4ms/step - loss: 0.4602 - mean_squared_error: 0.0928 - val_loss: 0.4216 - val_mean_squared_error: 0.0806\n",
            "Epoch 26/100\n",
            "32/32 [==============================] - 0s 4ms/step - loss: 0.4381 - mean_squared_error: 0.0855 - val_loss: 0.4252 - val_mean_squared_error: 0.0823\n",
            "Epoch 27/100\n",
            "32/32 [==============================] - 0s 4ms/step - loss: 0.4538 - mean_squared_error: 0.0894 - val_loss: 0.4259 - val_mean_squared_error: 0.0818\n",
            "Epoch 28/100\n",
            "32/32 [==============================] - 0s 4ms/step - loss: 0.4320 - mean_squared_error: 0.0823 - val_loss: 0.4637 - val_mean_squared_error: 0.0949\n",
            "Epoch 29/100\n",
            "32/32 [==============================] - 0s 4ms/step - loss: 0.4446 - mean_squared_error: 0.0862 - val_loss: 0.4237 - val_mean_squared_error: 0.0797\n",
            "Epoch 30/100\n",
            "32/32 [==============================] - 0s 4ms/step - loss: 0.4324 - mean_squared_error: 0.0812 - val_loss: 0.4290 - val_mean_squared_error: 0.0816\n",
            "Epoch 31/100\n",
            "32/32 [==============================] - 0s 4ms/step - loss: 0.4206 - mean_squared_error: 0.0761 - val_loss: 0.4332 - val_mean_squared_error: 0.0845\n",
            "Epoch 32/100\n",
            "32/32 [==============================] - 0s 4ms/step - loss: 0.4664 - mean_squared_error: 0.0969 - val_loss: 0.4602 - val_mean_squared_error: 0.0916\n",
            "Epoch 33/100\n",
            "32/32 [==============================] - 0s 4ms/step - loss: 0.4670 - mean_squared_error: 0.0951 - val_loss: 0.4211 - val_mean_squared_error: 0.0790\n",
            "Epoch 34/100\n",
            "32/32 [==============================] - 0s 4ms/step - loss: 0.4200 - mean_squared_error: 0.0773 - val_loss: 0.4154 - val_mean_squared_error: 0.0784\n",
            "Epoch 35/100\n",
            "32/32 [==============================] - 0s 5ms/step - loss: 0.4387 - mean_squared_error: 0.0860 - val_loss: 0.4237 - val_mean_squared_error: 0.0800\n",
            "Epoch 36/100\n",
            "32/32 [==============================] - 0s 4ms/step - loss: 0.4444 - mean_squared_error: 0.0867 - val_loss: 0.4371 - val_mean_squared_error: 0.0863\n",
            "Epoch 37/100\n",
            "32/32 [==============================] - 0s 4ms/step - loss: 0.4324 - mean_squared_error: 0.0844 - val_loss: 0.4260 - val_mean_squared_error: 0.0832\n",
            "Epoch 38/100\n",
            "32/32 [==============================] - 0s 4ms/step - loss: 0.4297 - mean_squared_error: 0.0806 - val_loss: 0.4361 - val_mean_squared_error: 0.0854\n",
            "Epoch 39/100\n",
            "32/32 [==============================] - 0s 4ms/step - loss: 0.4307 - mean_squared_error: 0.0816 - val_loss: 0.4168 - val_mean_squared_error: 0.0788\n",
            "Epoch 40/100\n",
            "32/32 [==============================] - 0s 4ms/step - loss: 0.4155 - mean_squared_error: 0.0764 - val_loss: 0.4478 - val_mean_squared_error: 0.0894\n",
            "Epoch 41/100\n",
            "32/32 [==============================] - 0s 4ms/step - loss: 0.4403 - mean_squared_error: 0.0813 - val_loss: 0.4490 - val_mean_squared_error: 0.0883\n",
            "Epoch 42/100\n",
            "32/32 [==============================] - 0s 5ms/step - loss: 0.4327 - mean_squared_error: 0.0852 - val_loss: 0.4157 - val_mean_squared_error: 0.0795\n",
            "Epoch 43/100\n",
            "32/32 [==============================] - 0s 4ms/step - loss: 0.4344 - mean_squared_error: 0.0835 - val_loss: 0.4152 - val_mean_squared_error: 0.0793\n",
            "Epoch 44/100\n",
            "32/32 [==============================] - 0s 5ms/step - loss: 0.4570 - mean_squared_error: 0.0944 - val_loss: 0.4311 - val_mean_squared_error: 0.0842\n",
            "Epoch 45/100\n",
            "32/32 [==============================] - 0s 4ms/step - loss: 0.4434 - mean_squared_error: 0.0877 - val_loss: 0.4282 - val_mean_squared_error: 0.0834\n",
            "Epoch 46/100\n",
            "32/32 [==============================] - 0s 4ms/step - loss: 0.4320 - mean_squared_error: 0.0830 - val_loss: 0.4288 - val_mean_squared_error: 0.0823\n",
            "Epoch 47/100\n",
            "32/32 [==============================] - 0s 4ms/step - loss: 0.4074 - mean_squared_error: 0.0752 - val_loss: 0.4151 - val_mean_squared_error: 0.0789\n",
            "Epoch 48/100\n",
            "32/32 [==============================] - 0s 4ms/step - loss: 0.4402 - mean_squared_error: 0.0850 - val_loss: 0.4382 - val_mean_squared_error: 0.0845\n",
            "Epoch 49/100\n",
            "32/32 [==============================] - 0s 4ms/step - loss: 0.4677 - mean_squared_error: 0.0941 - val_loss: 0.4492 - val_mean_squared_error: 0.0885\n",
            "Epoch 50/100\n",
            "32/32 [==============================] - 0s 4ms/step - loss: 0.4076 - mean_squared_error: 0.0706 - val_loss: 0.4167 - val_mean_squared_error: 0.0805\n",
            "Epoch 51/100\n",
            "32/32 [==============================] - 0s 4ms/step - loss: 0.4199 - mean_squared_error: 0.0783 - val_loss: 0.4369 - val_mean_squared_error: 0.0871\n",
            "Epoch 52/100\n",
            "32/32 [==============================] - 0s 4ms/step - loss: 0.4237 - mean_squared_error: 0.0789 - val_loss: 0.4438 - val_mean_squared_error: 0.0904\n",
            "Epoch 53/100\n",
            "32/32 [==============================] - 0s 5ms/step - loss: 0.4404 - mean_squared_error: 0.0861 - val_loss: 0.4394 - val_mean_squared_error: 0.0863\n",
            "Epoch 54/100\n",
            "32/32 [==============================] - 0s 4ms/step - loss: 0.4236 - mean_squared_error: 0.0776 - val_loss: 0.4247 - val_mean_squared_error: 0.0825\n",
            "Epoch 55/100\n",
            "32/32 [==============================] - 0s 4ms/step - loss: 0.4152 - mean_squared_error: 0.0795 - val_loss: 0.4341 - val_mean_squared_error: 0.0858\n",
            "Epoch 56/100\n",
            "32/32 [==============================] - 0s 5ms/step - loss: 0.4222 - mean_squared_error: 0.0812 - val_loss: 0.4417 - val_mean_squared_error: 0.0881\n",
            "Epoch 57/100\n",
            "32/32 [==============================] - 0s 4ms/step - loss: 0.4215 - mean_squared_error: 0.0791 - val_loss: 0.4227 - val_mean_squared_error: 0.0808\n",
            "Epoch 58/100\n",
            "32/32 [==============================] - 0s 4ms/step - loss: 0.4138 - mean_squared_error: 0.0782 - val_loss: 0.4162 - val_mean_squared_error: 0.0791\n",
            "Epoch 59/100\n",
            "32/32 [==============================] - 0s 4ms/step - loss: 0.4391 - mean_squared_error: 0.0866 - val_loss: 0.4372 - val_mean_squared_error: 0.0865\n",
            "Epoch 60/100\n",
            "32/32 [==============================] - 0s 5ms/step - loss: 0.4318 - mean_squared_error: 0.0857 - val_loss: 0.4219 - val_mean_squared_error: 0.0809\n",
            "Epoch 61/100\n",
            "32/32 [==============================] - 0s 4ms/step - loss: 0.4703 - mean_squared_error: 0.0977 - val_loss: 0.4784 - val_mean_squared_error: 0.0990\n",
            "Epoch 62/100\n",
            "32/32 [==============================] - 0s 5ms/step - loss: 0.4848 - mean_squared_error: 0.1029 - val_loss: 0.4694 - val_mean_squared_error: 0.0953\n",
            "Epoch 63/100\n",
            "32/32 [==============================] - 0s 4ms/step - loss: 0.4568 - mean_squared_error: 0.0893 - val_loss: 0.4225 - val_mean_squared_error: 0.0824\n",
            "Epoch 64/100\n",
            "32/32 [==============================] - 0s 4ms/step - loss: 0.4357 - mean_squared_error: 0.0843 - val_loss: 0.4163 - val_mean_squared_error: 0.0799\n",
            "Epoch 65/100\n",
            "32/32 [==============================] - 0s 4ms/step - loss: 0.4392 - mean_squared_error: 0.0855 - val_loss: 0.4286 - val_mean_squared_error: 0.0817\n",
            "Epoch 66/100\n",
            "32/32 [==============================] - 0s 5ms/step - loss: 0.4367 - mean_squared_error: 0.0844 - val_loss: 0.4200 - val_mean_squared_error: 0.0813\n",
            "Epoch 67/100\n",
            "32/32 [==============================] - 0s 5ms/step - loss: 0.4270 - mean_squared_error: 0.0807 - val_loss: 0.4195 - val_mean_squared_error: 0.0814\n",
            "Epoch 68/100\n",
            "32/32 [==============================] - 0s 4ms/step - loss: 0.4520 - mean_squared_error: 0.0920 - val_loss: 0.4453 - val_mean_squared_error: 0.0899\n",
            "Epoch 69/100\n",
            "32/32 [==============================] - 0s 4ms/step - loss: 0.4699 - mean_squared_error: 0.0968 - val_loss: 0.4388 - val_mean_squared_error: 0.0859\n",
            "Epoch 70/100\n",
            "32/32 [==============================] - 0s 4ms/step - loss: 0.4528 - mean_squared_error: 0.0876 - val_loss: 0.4495 - val_mean_squared_error: 0.0905\n",
            "Epoch 71/100\n",
            "32/32 [==============================] - 0s 5ms/step - loss: 0.4443 - mean_squared_error: 0.0858 - val_loss: 0.4164 - val_mean_squared_error: 0.0795\n",
            "Epoch 72/100\n",
            "32/32 [==============================] - 0s 4ms/step - loss: 0.4333 - mean_squared_error: 0.0842 - val_loss: 0.4161 - val_mean_squared_error: 0.0799\n",
            "Epoch 73/100\n",
            "32/32 [==============================] - 0s 4ms/step - loss: 0.4424 - mean_squared_error: 0.0859 - val_loss: 0.4201 - val_mean_squared_error: 0.0806\n",
            "Epoch 74/100\n",
            "32/32 [==============================] - 0s 4ms/step - loss: 0.4077 - mean_squared_error: 0.0745 - val_loss: 0.4268 - val_mean_squared_error: 0.0845\n",
            "Epoch 75/100\n",
            "32/32 [==============================] - 0s 4ms/step - loss: 0.4261 - mean_squared_error: 0.0797 - val_loss: 0.4193 - val_mean_squared_error: 0.0810\n",
            "Epoch 76/100\n",
            "32/32 [==============================] - 0s 5ms/step - loss: 0.4223 - mean_squared_error: 0.0804 - val_loss: 0.4166 - val_mean_squared_error: 0.0796\n",
            "Epoch 77/100\n",
            "32/32 [==============================] - 0s 4ms/step - loss: 0.4290 - mean_squared_error: 0.0802 - val_loss: 0.4158 - val_mean_squared_error: 0.0795\n",
            "Epoch 78/100\n",
            "32/32 [==============================] - 0s 4ms/step - loss: 0.4228 - mean_squared_error: 0.0779 - val_loss: 0.4168 - val_mean_squared_error: 0.0800\n",
            "Epoch 79/100\n",
            "32/32 [==============================] - 0s 4ms/step - loss: 0.4182 - mean_squared_error: 0.0783 - val_loss: 0.4146 - val_mean_squared_error: 0.0789\n",
            "Epoch 80/100\n",
            "32/32 [==============================] - 0s 4ms/step - loss: 0.4193 - mean_squared_error: 0.0789 - val_loss: 0.4182 - val_mean_squared_error: 0.0796\n",
            "Epoch 81/100\n",
            "32/32 [==============================] - 0s 4ms/step - loss: 0.4306 - mean_squared_error: 0.0787 - val_loss: 0.4179 - val_mean_squared_error: 0.0806\n",
            "Epoch 82/100\n",
            "32/32 [==============================] - 0s 4ms/step - loss: 0.4300 - mean_squared_error: 0.0844 - val_loss: 0.4178 - val_mean_squared_error: 0.0793\n",
            "Epoch 83/100\n",
            "32/32 [==============================] - 0s 5ms/step - loss: 0.4098 - mean_squared_error: 0.0750 - val_loss: 0.4907 - val_mean_squared_error: 0.1056\n",
            "Epoch 84/100\n",
            "32/32 [==============================] - 0s 4ms/step - loss: 0.4393 - mean_squared_error: 0.0854 - val_loss: 0.4434 - val_mean_squared_error: 0.0893\n",
            "Epoch 85/100\n",
            "32/32 [==============================] - 0s 4ms/step - loss: 0.4264 - mean_squared_error: 0.0823 - val_loss: 0.4209 - val_mean_squared_error: 0.0811\n",
            "Epoch 86/100\n",
            "32/32 [==============================] - 0s 4ms/step - loss: 0.4412 - mean_squared_error: 0.0880 - val_loss: 0.4235 - val_mean_squared_error: 0.0816\n",
            "Epoch 87/100\n",
            "32/32 [==============================] - 0s 4ms/step - loss: 0.4359 - mean_squared_error: 0.0821 - val_loss: 0.4441 - val_mean_squared_error: 0.0898\n",
            "Epoch 88/100\n",
            "32/32 [==============================] - 0s 4ms/step - loss: 0.4387 - mean_squared_error: 0.0841 - val_loss: 0.4267 - val_mean_squared_error: 0.0810\n",
            "Epoch 89/100\n",
            "32/32 [==============================] - 0s 4ms/step - loss: 0.4407 - mean_squared_error: 0.0810 - val_loss: 0.4164 - val_mean_squared_error: 0.0796\n",
            "Epoch 90/100\n",
            "32/32 [==============================] - 0s 5ms/step - loss: 0.4446 - mean_squared_error: 0.0847 - val_loss: 0.5042 - val_mean_squared_error: 0.1108\n",
            "Epoch 91/100\n",
            "32/32 [==============================] - 0s 5ms/step - loss: 0.4681 - mean_squared_error: 0.0946 - val_loss: 0.4268 - val_mean_squared_error: 0.0812\n",
            "Epoch 92/100\n",
            "32/32 [==============================] - 0s 4ms/step - loss: 0.4490 - mean_squared_error: 0.0892 - val_loss: 0.4249 - val_mean_squared_error: 0.0814\n",
            "Epoch 93/100\n",
            "32/32 [==============================] - 0s 4ms/step - loss: 0.4144 - mean_squared_error: 0.0766 - val_loss: 0.4275 - val_mean_squared_error: 0.0825\n",
            "Epoch 94/100\n",
            "32/32 [==============================] - 0s 5ms/step - loss: 0.4569 - mean_squared_error: 0.0918 - val_loss: 0.4278 - val_mean_squared_error: 0.0844\n",
            "Epoch 95/100\n",
            "32/32 [==============================] - 0s 4ms/step - loss: 0.3979 - mean_squared_error: 0.0703 - val_loss: 0.4571 - val_mean_squared_error: 0.0950\n",
            "Epoch 96/100\n",
            "32/32 [==============================] - 0s 4ms/step - loss: 0.4589 - mean_squared_error: 0.0890 - val_loss: 0.4160 - val_mean_squared_error: 0.0803\n",
            "Epoch 97/100\n",
            "32/32 [==============================] - 0s 5ms/step - loss: 0.4266 - mean_squared_error: 0.0813 - val_loss: 0.4201 - val_mean_squared_error: 0.0799\n",
            "Epoch 98/100\n",
            "32/32 [==============================] - 0s 4ms/step - loss: 0.4058 - mean_squared_error: 0.0713 - val_loss: 0.4174 - val_mean_squared_error: 0.0803\n",
            "Epoch 99/100\n",
            "32/32 [==============================] - 0s 5ms/step - loss: 0.4292 - mean_squared_error: 0.0844 - val_loss: 0.4444 - val_mean_squared_error: 0.0877\n",
            "Epoch 100/100\n",
            "32/32 [==============================] - 0s 4ms/step - loss: 0.4443 - mean_squared_error: 0.0901 - val_loss: 0.4183 - val_mean_squared_error: 0.0788\n"
          ],
          "name": "stdout"
        }
      ]
    },
    {
      "cell_type": "code",
      "metadata": {
        "colab": {
          "base_uri": "https://localhost:8080/",
          "height": 295
        },
        "id": "46xQXCYWEr1s",
        "outputId": "d38409d0-5ada-43e6-b2df-e82cd351c34a"
      },
      "source": [
        "plt.plot(hist_3.history['loss'])\r\n",
        "plt.plot(hist_3.history['val_loss'])\r\n",
        "plt.title('Model loss')\r\n",
        "plt.ylabel('Loss')\r\n",
        "plt.xlabel('Epoch')\r\n",
        "plt.legend(['Train', 'Val'], loc='upper right')\r\n",
        "plt.ylim(top=1.2, bottom=0)\r\n",
        "plt.show()"
      ],
      "execution_count": 32,
      "outputs": [
        {
          "output_type": "display_data",
          "data": {
            "image/png": "[encoded data removed]",
            "text/plain": [
              "<Figure size 432x288 with 1 Axes>"
            ]
          },
          "metadata": {
            "tags": [],
            "needs_background": "light"
          }
        }
      ]
    },
    {
      "cell_type": "code",
      "metadata": {
        "colab": {
          "base_uri": "https://localhost:8080/",
          "height": 295
        },
        "id": "z63mLsY9Es7e",
        "outputId": "93d096dc-fbf1-40c9-8e6b-a7857d67db67"
      },
      "source": [
        "plt.plot(hist_3.history['mean_squared_error'])\r\n",
        "plt.plot(hist_3.history['val_mean_squared_error'])\r\n",
        "plt.title('Model Mean Squared Error')\r\n",
        "plt.ylabel('Mean Squared Error')\r\n",
        "plt.xlabel('Epoch')\r\n",
        "plt.legend(['Train', 'Val'], loc='upper right')\r\n",
        "plt.show()"
      ],
      "execution_count": 33,
      "outputs": [
        {
          "output_type": "display_data",
          "data": {
            "image/png": "[encoded data removed]",
            "text/plain": [
              "<Figure size 432x288 with 1 Axes>"
            ]
          },
          "metadata": {
            "tags": [],
            "needs_background": "light"
          }
        }
      ]
    },
    {
      "cell_type": "markdown",
      "metadata": {
        "id": "G0SDZlYsuWjF"
      },
      "source": [
        "Now we see validation loss stay low with training loss and a similar story for training and validation mean squared error. "
      ]
    }
  ]
}